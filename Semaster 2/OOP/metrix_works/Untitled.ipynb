{
 "cells": [
  {
   "cell_type": "code",
   "execution_count": 117,
   "id": "d342a5cb",
   "metadata": {},
   "outputs": [],
   "source": [
    "import os\n",
    "M = []\n",
    "UWL = []\n",
    "def scan(path):\n",
    "    try:\n",
    "        for i in os.scandir(path):\n",
    "            if (i.is_file()):\n",
    "                name = i.name\n",
    "                if name.endswith(\".txt\"):\n",
    "                    file = open(i.path)\n",
    "                    txt = file.read()\n",
    "                    wl = txt.split(\" \")\n",
    "                    row = [0 for w in UWL]\n",
    "                    for w in wl:\n",
    "                        if w not in UWL:\n",
    "                            for ind, prevRow in enumerate(M):\n",
    "                                M[ind] = prevRow + [0]\n",
    "                            UWL.append(w)\n",
    "                            row.append(0)\n",
    "                        row[UWL.index(w)] = wl.count(w)\n",
    "                    M.append(row)\n",
    "            else:\n",
    "                scan(i)\n",
    "    except:\n",
    "        pass\n",
    "\n",
    "scan(\"C:\\\\src\\\\flutter\")"
   ]
  },
  {
   "cell_type": "code",
   "execution_count": 118,
   "id": "f5d2c14d",
   "metadata": {},
   "outputs": [],
   "source": [
    "file = open(\"vsm.txt\", \"w\")\n",
    "for row in M:\n",
    "    strRow = str(row)\n",
    "    strRow = strRow[1:]\n",
    "    strRow = strRow[:-1]\n",
    "    file.write(strRow+\"\\n\")\n",
    "file.close()"
   ]
  },
  {
   "cell_type": "code",
   "execution_count": 78,
   "id": "f3db77ca",
   "metadata": {},
   "outputs": [],
   "source": [
    "file = open(\"C:\\\\src\\\\flutter\\\\examples\\\\api\\windows\\\\CMakeLists.txt\")"
   ]
  },
  {
   "cell_type": "code",
   "execution_count": 91,
   "id": "4a72428f",
   "metadata": {},
   "outputs": [
    {
     "ename": "NameError",
     "evalue": "name 'txt' is not defined",
     "output_type": "error",
     "traceback": [
      "\u001b[1;31m---------------------------------------------------------------------------\u001b[0m",
      "\u001b[1;31mNameError\u001b[0m                                 Traceback (most recent call last)",
      "Input \u001b[1;32mIn [91]\u001b[0m, in \u001b[0;36m<cell line: 1>\u001b[1;34m()\u001b[0m\n\u001b[1;32m----> 1\u001b[0m \u001b[43mtxt\u001b[49m\n",
      "\u001b[1;31mNameError\u001b[0m: name 'txt' is not defined"
     ]
    }
   ],
   "source": []
  },
  {
   "cell_type": "code",
   "execution_count": 116,
   "id": "d0d312ff",
   "metadata": {},
   "outputs": [
    {
     "data": {
      "text/plain": [
       "'[1, 2, 3]'"
      ]
     },
     "execution_count": 116,
     "metadata": {},
     "output_type": "execute_result"
    }
   ],
   "source": [
    "str([1, 2, 3])"
   ]
  },
  {
   "cell_type": "code",
   "execution_count": 82,
   "id": "6362da6a",
   "metadata": {},
   "outputs": [
    {
     "name": "stdout",
     "output_type": "stream",
     "text": [
      "The maximum no of 1s occur at 4.\n"
     ]
    }
   ],
   "source": [
    "M = [[0,0,1,1,1],\n",
    "    [1,1,0,0,0],\n",
    "    [1,0,0,0,0],\n",
    "    [1,1,1,1,0]]\n",
    "r= []\n",
    "for i in range(len(M)):\n",
    "    count = 0\n",
    "    for j in range(len(M[0])):\n",
    "        if M[i][j] == 1:\n",
    "            count += 1\n",
    "    r.append(count)\n",
    "    m = r[0]\n",
    "    for k in range(len(r)):\n",
    "        if r[k] > m:\n",
    "            m = r[k]\n",
    "print(f\"The maximum no of 1s occur at {k+1}.\")"
   ]
  },
  {
   "cell_type": "code",
   "execution_count": 86,
   "id": "a1b392de",
   "metadata": {},
   "outputs": [
    {
     "name": "stdout",
     "output_type": "stream",
     "text": [
      "4\n"
     ]
    }
   ],
   "source": [
    "maxCount = 0\n",
    "maxInd = 0\n",
    "for ind, row in enumerate(M):\n",
    "    maxRow = row.count(1)\n",
    "    if maxRow > maxCount:\n",
    "        maxCount = maxRow\n",
    "        maxInd = ind\n",
    "print(maxInd)"
   ]
  }
 ],
 "metadata": {
  "kernelspec": {
   "display_name": "Python 3 (ipykernel)",
   "language": "python",
   "name": "python3"
  },
  "language_info": {
   "codemirror_mode": {
    "name": "ipython",
    "version": 3
   },
   "file_extension": ".py",
   "mimetype": "text/x-python",
   "name": "python",
   "nbconvert_exporter": "python",
   "pygments_lexer": "ipython3",
   "version": "3.9.13"
  }
 },
 "nbformat": 4,
 "nbformat_minor": 5
}
