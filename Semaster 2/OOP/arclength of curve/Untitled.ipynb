{
 "cells": [
  {
   "cell_type": "code",
   "execution_count": 1,
   "id": "dbd6d499",
   "metadata": {},
   "outputs": [],
   "source": [
    "import math"
   ]
  },
  {
   "cell_type": "code",
   "execution_count": 7,
   "id": "d52377ac",
   "metadata": {},
   "outputs": [],
   "source": [
    "r = 2 # radius\n",
    "X = lambda x: r*math.cos(x)\n",
    "Y = lambda y: r*math.sin(y)"
   ]
  },
  {
   "cell_type": "code",
   "execution_count": 31,
   "id": "6ddbd4f5",
   "metadata": {},
   "outputs": [
    {
     "name": "stdout",
     "output_type": "stream",
     "text": [
      "12.56637040765075\n"
     ]
    }
   ],
   "source": [
    "n = 10000 # n is directly proportional to accuracy of arc length\n",
    "a = 0\n",
    "b = 2*math.pi\n",
    "t = a\n",
    "h = (b-a)/n\n",
    "L = 0\n",
    "while t < b:\n",
    "    x0 = X(t)\n",
    "    y0 = Y(t)\n",
    "    t += h\n",
    "    x1 = X(t)\n",
    "    y1 = Y(t)\n",
    "    d = math.sqrt((x1-x0)**2+(y1-y0)**2)\n",
    "    L += d\n",
    "print(L) # calculated answer"
   ]
  },
  {
   "cell_type": "code",
   "execution_count": 32,
   "id": "e72ae2cf",
   "metadata": {},
   "outputs": [
    {
     "data": {
      "text/plain": [
       "12.566370614359172"
      ]
     },
     "execution_count": 32,
     "metadata": {},
     "output_type": "execute_result"
    }
   ],
   "source": [
    "2*math.pi*r # actual answer"
   ]
  },
  {
   "cell_type": "code",
   "execution_count": null,
   "id": "ac2a1c51",
   "metadata": {},
   "outputs": [],
   "source": []
  }
 ],
 "metadata": {
  "kernelspec": {
   "display_name": "Python 3 (ipykernel)",
   "language": "python",
   "name": "python3"
  },
  "language_info": {
   "codemirror_mode": {
    "name": "ipython",
    "version": 3
   },
   "file_extension": ".py",
   "mimetype": "text/x-python",
   "name": "python",
   "nbconvert_exporter": "python",
   "pygments_lexer": "ipython3",
   "version": "3.9.13"
  }
 },
 "nbformat": 4,
 "nbformat_minor": 5
}
