{
 "cells": [
  {
   "cell_type": "code",
   "execution_count": 2,
   "id": "bce783d3",
   "metadata": {},
   "outputs": [
    {
     "name": "stdout",
     "output_type": "stream",
     "text": [
      "0\t0\t0\t0\t0\t0\t0\t0\t0\t0\t0\t0\t0\t0\t0\n",
      "\n"
     ]
    }
   ],
   "source": [
    "file = open(\"blob_img.txt\")\n",
    "row = file.readline()\n",
    "print(row)\n",
    "M = [] # image array \n",
    "# while (row exist)\n",
    "while (row != \"\"):\n",
    "    row = row[:-1] # remove '\\n' character from row at last\n",
    "    row = row.split(\"\\t\")\n",
    "    row = list(map(int, row))\n",
    "    M.append(row)\n",
    "    row = file.readline()\n",
    "file.close()"
   ]
  },
  {
   "cell_type": "code",
   "execution_count": 3,
   "id": "0c3aa599",
   "metadata": {},
   "outputs": [
    {
     "data": {
      "text/plain": [
       "[[0, 0, 0, 0, 0, 0, 0, 0, 0, 0, 0, 0, 0, 0, 0],\n",
       " [0, 0, 0, 0, 0, 0, 0, 0, 0, 0, 0, 0, 0, 0, 0],\n",
       " [0, 0, 0, 0, 0, 0, 0, 0, 0, 0, 0, 0, 0, 0, 1],\n",
       " [0, 0, 0, 0, 0, 0, 0, 0, 0, 0, 0, 0, 0, 1, 0],\n",
       " [1, 1, 0, 0, 0, 0, 0, 0, 0, 0, 0, 0, 0, 1, 0],\n",
       " [0, 1, 1, 0, 0, 0, 0, 1, 1, 0, 0, 0, 0, 0, 1],\n",
       " [0, 0, 1, 0, 0, 0, 0, 1, 0, 0, 0, 0, 0, 0, 1],\n",
       " [0, 0, 1, 0, 0, 0, 0, 1, 0, 0, 0, 0, 0, 1, 0],\n",
       " [0, 1, 0, 0, 0, 0, 0, 1, 0, 0, 0, 0, 0, 1, 0],\n",
       " [0, 1, 0, 0, 0, 0, 0, 1, 0, 0, 0, 0, 0, 1, 0],\n",
       " [0, 0, 1, 0, 0, 0, 0, 1, 0, 0, 0, 0, 0, 1, 0],\n",
       " [0, 0, 1, 0, 0, 0, 0, 1, 0, 0, 0, 0, 0, 1, 0],\n",
       " [0, 0, 1, 0, 0, 0, 0, 1, 0, 0, 0, 0, 0, 1, 1],\n",
       " [0, 0, 1, 0, 0, 0, 0, 0, 1, 1, 0, 0, 0, 0, 1],\n",
       " [0, 1, 0, 0, 0, 0, 0, 0, 0, 1, 1, 0, 0, 0, 1],\n",
       " [0, 0, 1, 0, 0, 0, 0, 0, 0, 0, 1, 0, 0, 1, 0],\n",
       " [0, 0, 0, 1, 0, 0, 0, 0, 0, 0, 1, 0, 0, 1, 0],\n",
       " [0, 0, 0, 1, 0, 0, 0, 0, 0, 0, 1, 0, 0, 1, 1],\n",
       " [0, 0, 1, 0, 0, 0, 0, 0, 0, 1, 0, 0, 0, 0, 1],\n",
       " [0, 0, 1, 0, 0, 0, 0, 0, 0, 1, 0, 0, 0, 0, 1],\n",
       " [0, 0, 1, 0, 0, 0, 0, 0, 0, 1, 0, 0, 0, 1, 0],\n",
       " [0, 0, 0, 1, 0, 0, 0, 0, 0, 0, 1, 0, 0, 1, 0],\n",
       " [0, 0, 0, 1, 0, 0, 1, 0, 0, 0, 1, 0, 0, 1, 0],\n",
       " [0, 0, 0, 1, 0, 0, 1, 0, 0, 0, 0, 1, 1, 1, 0],\n",
       " [0, 0, 0, 0, 0, 0, 1, 1, 0, 0, 0, 0, 0, 0, 0],\n",
       " [0, 0, 0, 0, 0, 0, 0, 1, 0, 0, 0, 0, 0, 0, 0],\n",
       " [0, 0, 0, 0, 0, 0, 1, 0, 0, 0, 0, 0, 0, 0, 0],\n",
       " [0, 0, 0, 0, 0, 0, 0, 1, 1, 0, 0, 0, 0, 0, 0],\n",
       " [0, 0, 0, 0, 0, 0, 0, 0, 0, 0, 0, 0, 0, 0, 0],\n",
       " [0, 0, 0, 0, 0, 0, 0, 0, 0, 0, 0, 0, 0, 0, 0]]"
      ]
     },
     "execution_count": 3,
     "metadata": {},
     "output_type": "execute_result"
    }
   ],
   "source": [
    "M"
   ]
  },
  {
   "cell_type": "code",
   "execution_count": 22,
   "id": "97c5fd59",
   "metadata": {},
   "outputs": [],
   "source": [
    "def blob(img, r, c):\n",
    "    if ((r < 0) or (c < 0) or (r >= NR) or (c >= NC)):\n",
    "        return 0\n",
    "    if (img[r][c] == 1):\n",
    "        # print(f\"{chr(c+65)}{r+1}\")\n",
    "        img[r][c] = 0\n",
    "        return 1 + blob(img, r-1, c-1) + blob(img, r-1, c) + blob(img, r-1, c+1) + blob(img, r, c+1) + blob(img, r+1, c+1) + blob(img, r+1, c) + blob(img, r+1, c-1) + blob(img, r, c-1)\n",
    "    else:\n",
    "        return 0"
   ]
  },
  {
   "cell_type": "code",
   "execution_count": 25,
   "id": "8753e09d",
   "metadata": {},
   "outputs": [],
   "source": [
    "NR = len(M)\n",
    "NC = len(M[0])"
   ]
  },
  {
   "cell_type": "code",
   "execution_count": 27,
   "id": "67c4a769",
   "metadata": {},
   "outputs": [
    {
     "data": {
      "text/plain": [
       "22"
      ]
     },
     "execution_count": 27,
     "metadata": {},
     "output_type": "execute_result"
    }
   ],
   "source": [
    "blob(M, 4, 0)"
   ]
  },
  {
   "cell_type": "code",
   "execution_count": 28,
   "id": "2cd2d9f4",
   "metadata": {},
   "outputs": [
    {
     "data": {
      "text/plain": [
       "30"
      ]
     },
     "execution_count": 28,
     "metadata": {},
     "output_type": "execute_result"
    }
   ],
   "source": [
    "NR"
   ]
  },
  {
   "cell_type": "code",
   "execution_count": 30,
   "id": "98721a60",
   "metadata": {},
   "outputs": [
    {
     "name": "stdout",
     "output_type": "stream",
     "text": [
      "2 14\n",
      "3 13\n",
      "4 13\n",
      "5 7\n",
      "5 8\n",
      "5 14\n",
      "6 7\n",
      "6 14\n",
      "7 7\n",
      "7 13\n",
      "8 7\n",
      "8 13\n",
      "9 7\n",
      "9 13\n",
      "10 7\n",
      "10 13\n",
      "11 7\n",
      "11 13\n",
      "12 7\n",
      "12 13\n",
      "12 14\n",
      "13 8\n",
      "13 9\n",
      "13 14\n",
      "14 9\n",
      "14 10\n",
      "14 14\n",
      "15 10\n",
      "15 13\n",
      "16 10\n",
      "16 13\n",
      "17 10\n",
      "17 13\n",
      "17 14\n",
      "18 9\n",
      "18 14\n",
      "19 9\n",
      "19 14\n",
      "20 9\n",
      "20 13\n",
      "21 10\n",
      "21 13\n",
      "22 6\n",
      "22 10\n",
      "22 13\n",
      "23 6\n",
      "23 11\n",
      "23 12\n",
      "23 13\n",
      "24 6\n",
      "24 7\n",
      "25 7\n",
      "26 6\n",
      "27 7\n",
      "27 8\n"
     ]
    }
   ],
   "source": [
    "for r in range(NR):\n",
    "    for c in range(NC):\n",
    "        if M[r][c] ==1:\n",
    "            print(r, c)"
   ]
  },
  {
   "cell_type": "code",
   "execution_count": null,
   "id": "9a9dcf96",
   "metadata": {},
   "outputs": [],
   "source": []
  }
 ],
 "metadata": {
  "kernelspec": {
   "display_name": "Python 3 (ipykernel)",
   "language": "python",
   "name": "python3"
  },
  "language_info": {
   "codemirror_mode": {
    "name": "ipython",
    "version": 3
   },
   "file_extension": ".py",
   "mimetype": "text/x-python",
   "name": "python",
   "nbconvert_exporter": "python",
   "pygments_lexer": "ipython3",
   "version": "3.9.13"
  }
 },
 "nbformat": 4,
 "nbformat_minor": 5
}
