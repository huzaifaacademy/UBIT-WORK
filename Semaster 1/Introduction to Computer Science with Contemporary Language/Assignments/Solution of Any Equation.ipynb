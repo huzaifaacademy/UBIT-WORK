{
 "cells": [
  {
   "cell_type": "code",
   "execution_count": 1,
   "id": "ce87b836",
   "metadata": {},
   "outputs": [
    {
     "name": "stdout",
     "output_type": "stream",
     "text": [
      "Enter limit 1 : 2.9\n",
      "Enter limit 2 : 3.4\n",
      "No of Iterations : 46\n",
      "Root of Equation : 3.0000000000000013\n"
     ]
    }
   ],
   "source": [
    "limit1 = float(input(\"Enter limit 1 : \"))\n",
    "limit2 = float(input(\"Enter limit 2 : \"))\n",
    "equation = lambda x: (x**2)-(5*x)+6\n",
    "ans1 = equation(limit1)\n",
    "ans2 = equation(limit2)\n",
    "if (ans1 > 0) and (ans2 < 0):\n",
    "    pos_limit = limit1\n",
    "    neg_limit = limit2\n",
    "elif (ans1 < 0) and (ans2 > 0):\n",
    "    pos_limit = limit2\n",
    "    neg_limit = limit1\n",
    "else:\n",
    "    assert False, \"Invalid limits\"\n",
    "\n",
    "count = 0\n",
    "while True:\n",
    "    count += 1\n",
    "    c = (pos_limit + neg_limit) / 2\n",
    "    ansC = equation(c)\n",
    "    \n",
    "    if ansC==0:\n",
    "        break\n",
    "    elif ansC > 0:\n",
    "        pos_limit = c\n",
    "    else:\n",
    "        neg_limit = c\n",
    "print(f\"No of Iterations : {count}\\nRoot of Equation : {c}\")"
   ]
  },
  {
   "cell_type": "code",
   "execution_count": 9,
   "id": "d27826b8",
   "metadata": {},
   "outputs": [
    {
     "data": {
      "text/plain": [
       "-0.25"
      ]
     },
     "execution_count": 9,
     "metadata": {},
     "output_type": "execute_result"
    }
   ],
   "source": [
    "equation(2.5)\n"
   ]
  },
  {
   "cell_type": "code",
   "execution_count": 3,
   "id": "a9113f08",
   "metadata": {},
   "outputs": [
    {
     "name": "stdout",
     "output_type": "stream",
     "text": [
      "Enter limit 1 :2.9\n",
      "Enter limit 2 :3.3\n",
      "3.0\n"
     ]
    }
   ],
   "source": [
    "a = float(input(\"Enter limit 1 :\"))\n",
    "b = float(input(\"Enter limit 2 :\"))\n",
    "equation = lambda x: (x**2)-(5*x)+6\n",
    "ya = equation(a)\n",
    "yb = equation(b)\n",
    "if ya*yb<0:\n",
    "    while True:\n",
    "        c = (a+b)/2\n",
    "        yc = equation(c)\n",
    "        if yc*ya<0:\n",
    "            b = c\n",
    "        else:\n",
    "            a = c\n",
    "        if yc==0:\n",
    "            break\n",
    "    print(c)\n",
    "else:\n",
    "    print(\"Invalid limits\")"
   ]
  },
  {
   "cell_type": "code",
   "execution_count": 4,
   "id": "e60cc8fb",
   "metadata": {},
   "outputs": [
    {
     "data": {
      "text/plain": [
       "0"
      ]
     },
     "execution_count": 4,
     "metadata": {},
     "output_type": "execute_result"
    }
   ],
   "source": [
    "equation(3)"
   ]
  },
  {
   "cell_type": "code",
   "execution_count": null,
   "id": "d364f188",
   "metadata": {},
   "outputs": [],
   "source": []
  }
 ],
 "metadata": {
  "kernelspec": {
   "display_name": "Python 3",
   "language": "python",
   "name": "python3"
  },
  "language_info": {
   "codemirror_mode": {
    "name": "ipython",
    "version": 3
   },
   "file_extension": ".py",
   "mimetype": "text/x-python",
   "name": "python",
   "nbconvert_exporter": "python",
   "pygments_lexer": "ipython3",
   "version": "3.8.8"
  }
 },
 "nbformat": 4,
 "nbformat_minor": 5
}
