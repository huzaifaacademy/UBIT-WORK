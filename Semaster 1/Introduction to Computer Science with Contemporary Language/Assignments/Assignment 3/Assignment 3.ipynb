{
 "cells": [
  {
   "cell_type": "code",
   "execution_count": 12,
   "id": "bd460ef7",
   "metadata": {},
   "outputs": [
    {
     "name": "stdout",
     "output_type": "stream",
     "text": [
      "1 \n",
      "1 2 \n",
      "1 2 3 \n",
      "1 2 3 4 \n",
      "1 2 3 4 5 \n"
     ]
    }
   ],
   "source": [
    "row = 1\n",
    "while (row <= 5):\n",
    "    col = 1\n",
    "    while (col <= row):\n",
    "        print(col, end=\" \")\n",
    "        col += 1\n",
    "    print(\"\")\n",
    "    row += 1"
   ]
  },
  {
   "cell_type": "code",
   "execution_count": 13,
   "id": "818202d9",
   "metadata": {},
   "outputs": [
    {
     "name": "stdout",
     "output_type": "stream",
     "text": [
      "1 \n",
      "2 2 \n",
      "3 3 3 \n",
      "4 4 4 4 \n",
      "5 5 5 5 5 \n"
     ]
    }
   ],
   "source": [
    "row = 1\n",
    "while (row <= 5):\n",
    "    col = 1\n",
    "    while (col <= row):\n",
    "        print(row, end=\" \")\n",
    "        col += 1\n",
    "    print(\"\")\n",
    "    row += 1"
   ]
  },
  {
   "cell_type": "code",
   "execution_count": 11,
   "id": "6aaa746b",
   "metadata": {},
   "outputs": [
    {
     "name": "stdout",
     "output_type": "stream",
     "text": [
      "1 \n",
      "1 0 \n",
      "1 0 1 \n",
      "1 0 1 0 \n",
      "1 0 1 0 1 \n"
     ]
    }
   ],
   "source": [
    "row = 1\n",
    "while (row <= 5):\n",
    "    col = 1\n",
    "    while (col <= row):\n",
    "        if (col % 2 != 0):\n",
    "            print(1, end=\" \")\n",
    "        else:\n",
    "            print(0, end=\" \")\n",
    "        col += 1\n",
    "    print(\"\")\n",
    "    row += 1"
   ]
  },
  {
   "cell_type": "code",
   "execution_count": 10,
   "id": "9c4664e3",
   "metadata": {},
   "outputs": [
    {
     "name": "stdout",
     "output_type": "stream",
     "text": [
      "1 \n",
      "0 1 \n",
      "1 0 1 \n",
      "0 1 0 1 \n",
      "1 0 1 0 1 \n"
     ]
    }
   ],
   "source": [
    "row = 1\n",
    "while (row <= 5):\n",
    "    col = 1\n",
    "    while (col <= row):\n",
    "        if ((row - col) % 2 == 0):\n",
    "            print(1, end=\" \")\n",
    "        else:\n",
    "            print(0, end=\" \")\n",
    "        col += 1\n",
    "    print(\"\")\n",
    "    row += 1"
   ]
  },
  {
   "cell_type": "code",
   "execution_count": 62,
   "id": "fea05281",
   "metadata": {},
   "outputs": [
    {
     "name": "stdout",
     "output_type": "stream",
     "text": [
      "12\n",
      "1234\n",
      "123456\n"
     ]
    }
   ],
   "source": [
    "#                    NOT DONE.\n",
    "row = 1\n",
    "while (row <= 3):\n",
    "    col = 1\n",
    "    while (col <= row*2):\n",
    "        print(col, end = \"\")\n",
    "        col += 1\n",
    "    print(\"\")\n",
    "    row += 1"
   ]
  },
  {
   "cell_type": "code",
   "execution_count": 14,
   "id": "ff7f96c9",
   "metadata": {},
   "outputs": [
    {
     "name": "stdout",
     "output_type": "stream",
     "text": [
      "1 \n",
      "1 2 \n",
      "1 2 3 \n",
      "1 2 3 4 \n",
      "1 2 3 4 5 \n"
     ]
    }
   ],
   "source": [
    "row = 1\n",
    "while (row <= 5):\n",
    "    col = 1\n",
    "    while (col <= row):\n",
    "        print(col, end=\" \")\n",
    "        col += 1\n",
    "    print(\"\")\n",
    "    row += 1"
   ]
  },
  {
   "cell_type": "code",
   "execution_count": 46,
   "id": "93201a55",
   "metadata": {},
   "outputs": [
    {
     "name": "stdout",
     "output_type": "stream",
     "text": [
      "Enter a number : 5\n",
      "* \n",
      "* * \n",
      "* * * \n",
      "* * * * \n",
      "* * * * * \n",
      "* * * * \n",
      "* * * \n",
      "* * \n",
      "* \n",
      "\n"
     ]
    }
   ],
   "source": [
    "num = int(input(\"Enter a number : \"))\n",
    "row = 1\n",
    "while (row <= num):\n",
    "    col = 1\n",
    "    while (col <= row):\n",
    "        print(\"*\", end=\" \")\n",
    "        col += 1\n",
    "    print(\"\")\n",
    "    row += 1\n",
    "\n",
    "row = 1\n",
    "while (row <= num):\n",
    "    col = num-1\n",
    "    while (col >= row):\n",
    "        print(\"*\", end=\" \")\n",
    "        col -= 1\n",
    "    print(\"\")\n",
    "    row += 1"
   ]
  },
  {
   "cell_type": "code",
   "execution_count": 9,
   "id": "a0a66497",
   "metadata": {},
   "outputs": [
    {
     "name": "stdout",
     "output_type": "stream",
     "text": [
      "Enter a number : 4\n",
      "4 3 2 1 \n",
      "3 2 1 \n",
      "2 1 \n",
      "1 \n",
      "\n"
     ]
    }
   ],
   "source": [
    "num = int(input(\"Enter a number : \"))\n",
    "row = 0\n",
    "while (row <= num):\n",
    "    col = num - row\n",
    "    while (col >= 1):\n",
    "        print(col, end=\" \")\n",
    "        col -= 1\n",
    "    row += 1\n",
    "    print(\"\")"
   ]
  },
  {
   "cell_type": "code",
   "execution_count": 14,
   "id": "7c13f11f",
   "metadata": {},
   "outputs": [
    {
     "name": "stdout",
     "output_type": "stream",
     "text": [
      "Enter a number : 20\n",
      "2\n",
      "3\n",
      "5\n",
      "7\n",
      "11\n",
      "13\n",
      "17\n",
      "19\n"
     ]
    }
   ],
   "source": [
    "num = 2\n",
    "end = int(input(\"Enter a number : \"))\n",
    "while (num <= end):\n",
    "    count = 2\n",
    "    no_divisors = 0\n",
    "    while (count < num):\n",
    "        if (num % count == 0):\n",
    "            no_divisors += 1\n",
    "        count += 1\n",
    "    if (no_divisors == 0):\n",
    "        print(num)\n",
    "    num += 1"
   ]
  },
  {
   "cell_type": "code",
   "execution_count": null,
   "id": "37897dfa",
   "metadata": {},
   "outputs": [],
   "source": []
  }
 ],
 "metadata": {
  "kernelspec": {
   "display_name": "Python 3",
   "language": "python",
   "name": "python3"
  },
  "language_info": {
   "codemirror_mode": {
    "name": "ipython",
    "version": 3
   },
   "file_extension": ".py",
   "mimetype": "text/x-python",
   "name": "python",
   "nbconvert_exporter": "python",
   "pygments_lexer": "ipython3",
   "version": "3.8.8"
  }
 },
 "nbformat": 4,
 "nbformat_minor": 5
}
