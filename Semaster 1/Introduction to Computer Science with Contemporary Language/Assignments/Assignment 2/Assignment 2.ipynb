{
 "cells": [
  {
   "cell_type": "markdown",
   "id": "14e7dd7b",
   "metadata": {},
   "source": [
    "19-print 1,2,3,4,5,6,7,_______ from 1 to n."
   ]
  },
  {
   "cell_type": "code",
   "execution_count": 2,
   "id": "402f2e2c",
   "metadata": {},
   "outputs": [
    {
     "name": "stdout",
     "output_type": "stream",
     "text": [
      "1\n",
      "2\n",
      "3\n",
      "4\n",
      "5\n",
      "6\n",
      "7\n",
      "8\n",
      "9\n",
      "10\n",
      "11\n",
      "12\n",
      "13\n",
      "14\n",
      "15\n",
      "16\n",
      "17\n",
      "18\n",
      "19\n",
      "20\n"
     ]
    }
   ],
   "source": [
    "n = 20\n",
    "count = 1\n",
    "while (count <= n):\n",
    "    print(count)\n",
    "    count += 1"
   ]
  },
  {
   "cell_type": "markdown",
   "id": "4c77b9c2",
   "metadata": {},
   "source": [
    "20-print 1,3,5,7,9_______ from 1 to n."
   ]
  },
  {
   "cell_type": "code",
   "execution_count": 3,
   "id": "4c6c08fa",
   "metadata": {},
   "outputs": [
    {
     "name": "stdout",
     "output_type": "stream",
     "text": [
      "1\n",
      "3\n",
      "5\n",
      "7\n",
      "9\n",
      "11\n",
      "13\n",
      "15\n",
      "17\n",
      "19\n"
     ]
    }
   ],
   "source": [
    "n = 20\n",
    "count = 1\n",
    "while (count <= n):\n",
    "    print(count)\n",
    "    count += 2"
   ]
  },
  {
   "cell_type": "markdown",
   "id": "6ef11e58",
   "metadata": {},
   "source": [
    "21- print 2,4,6,8,10."
   ]
  },
  {
   "cell_type": "code",
   "execution_count": 6,
   "id": "ac99526a",
   "metadata": {},
   "outputs": [
    {
     "name": "stdout",
     "output_type": "stream",
     "text": [
      "2\n",
      "4\n",
      "6\n",
      "8\n",
      "10\n"
     ]
    }
   ],
   "source": [
    "count = 2\n",
    "while (count <= 10):\n",
    "    print(count)\n",
    "    count += 2"
   ]
  },
  {
   "cell_type": "markdown",
   "id": "a4267261",
   "metadata": {},
   "source": [
    "22-print 0,1,4,9,16,25 =0²,1²,2²,3²______.\n",
    "Also 1,3,5,7,9\n"
   ]
  },
  {
   "cell_type": "code",
   "execution_count": 7,
   "id": "f20a242a",
   "metadata": {},
   "outputs": [
    {
     "name": "stdout",
     "output_type": "stream",
     "text": [
      "0\n",
      "1\n",
      "4\n",
      "9\n",
      "16\n",
      "25\n",
      "36\n",
      "49\n",
      "64\n",
      "81\n",
      "100\n",
      "121\n",
      "144\n",
      "169\n",
      "196\n",
      "225\n",
      "256\n",
      "289\n",
      "324\n",
      "361\n",
      "400\n"
     ]
    }
   ],
   "source": [
    "n = 20\n",
    "count = 0\n",
    "while (count <= n):\n",
    "    print(count**2)\n",
    "    count += 1"
   ]
  },
  {
   "cell_type": "markdown",
   "id": "059dc270",
   "metadata": {},
   "source": [
    "23-Print 9,16,21,24,25,24 = 10-1²,20-2²,30-3²=n*10-n²."
   ]
  },
  {
   "cell_type": "code",
   "execution_count": 3,
   "id": "a812e43a",
   "metadata": {},
   "outputs": [
    {
     "name": "stdout",
     "output_type": "stream",
     "text": [
      "9\n",
      "16\n",
      "21\n",
      "24\n",
      "25\n",
      "24\n",
      "21\n",
      "16\n",
      "9\n",
      "0\n"
     ]
    }
   ],
   "source": [
    "n = 10\n",
    "count = 1\n",
    "while (count <= n):\n",
    "    print((count*10)-(count**2))\n",
    "    count += 1"
   ]
  },
  {
   "cell_type": "markdown",
   "id": "d5f8d77b",
   "metadata": {},
   "source": [
    "24-print 0,1,1,2,3,5,8,13,21,34,55."
   ]
  },
  {
   "cell_type": "code",
   "execution_count": 5,
   "id": "bd5aee60",
   "metadata": {},
   "outputs": [
    {
     "name": "stdout",
     "output_type": "stream",
     "text": [
      "0\n",
      "1\n",
      "1\n",
      "2\n",
      "3\n",
      "5\n",
      "8\n",
      "13\n",
      "21\n",
      "34\n",
      "55\n",
      "89\n"
     ]
    }
   ],
   "source": [
    "second_last = 0\n",
    "print(second_last)\n",
    "last = 1\n",
    "print(last)\n",
    "result = 0\n",
    "while (result <= 55):\n",
    "    result = second_last + last\n",
    "    print(result)\n",
    "    second_last = last\n",
    "    last = result"
   ]
  },
  {
   "cell_type": "markdown",
   "id": "c2604c6f",
   "metadata": {},
   "source": [
    "25-input a number and check if it is divisible by 16."
   ]
  },
  {
   "cell_type": "code",
   "execution_count": 11,
   "id": "e2cbdae0",
   "metadata": {},
   "outputs": [
    {
     "name": "stdout",
     "output_type": "stream",
     "text": [
      "Enter a number44\n",
      "44 is not divisible by 16\n"
     ]
    }
   ],
   "source": [
    "num = int(input(\"Enter a number\"))\n",
    "if (num % 16 == 0):\n",
    "    print(f\"{num} is divisible by 16\")\n",
    "else:\n",
    "    print(f\"{num} is not divisible by 16\")"
   ]
  },
  {
   "cell_type": "markdown",
   "id": "0142f70c",
   "metadata": {},
   "source": [
    "26-input two numbers andumbercheck it divisible by second."
   ]
  },
  {
   "cell_type": "code",
   "execution_count": 13,
   "id": "bcbaa112",
   "metadata": {},
   "outputs": [
    {
     "name": "stdout",
     "output_type": "stream",
     "text": [
      "Enter number 1 : 4\n",
      "Enter number 2 : 2\n",
      "Yes, it is divisible\n"
     ]
    }
   ],
   "source": [
    "num1 = int(input(\"Enter number 1 : \"))\n",
    "num2 = int(input(\"Enter number 2 : \"))\n",
    "if (num1 % num2 == 0):\n",
    "    print(\"Yes, it is divisible\")\n",
    "else:\n",
    "    print(\"No, it is not divisible\")"
   ]
  },
  {
   "cell_type": "markdown",
   "id": "55fc91c9",
   "metadata": {},
   "source": [
    "27-print all dividors of a number (if number is –ve make it positive)."
   ]
  },
  {
   "cell_type": "code",
   "execution_count": 38,
   "id": "11355632",
   "metadata": {},
   "outputs": [
    {
     "name": "stdout",
     "output_type": "stream",
     "text": [
      "Enter a number : 22\n",
      "1\n",
      "2\n",
      "11\n"
     ]
    }
   ],
   "source": [
    "num = int(input(\"Enter a number : \"))\n",
    "num = abs(num)\n",
    "count = 1\n",
    "while (count<num):\n",
    "    if (num % count == 0):\n",
    "        print(count)\n",
    "    count += 1"
   ]
  },
  {
   "cell_type": "markdown",
   "id": "140422b7",
   "metadata": {},
   "source": [
    "28-input a number and print number of its divisors."
   ]
  },
  {
   "cell_type": "code",
   "execution_count": 37,
   "id": "49b29ca5",
   "metadata": {},
   "outputs": [
    {
     "name": "stdout",
     "output_type": "stream",
     "text": [
      "Enter a number : 22\n",
      "3\n"
     ]
    }
   ],
   "source": [
    "num = int(input(\"Enter a number : \"))\n",
    "count = 1\n",
    "no_of_divisor = 0\n",
    "while (count < num):\n",
    "    if (num % count == 0):\n",
    "        no_of_divisor += 1\n",
    "    count += 1\n",
    "print(no_of_divisor)"
   ]
  },
  {
   "cell_type": "markdown",
   "id": "d365d548",
   "metadata": {},
   "source": [
    "29-input a number and print if the input is a prime number or not."
   ]
  },
  {
   "cell_type": "code",
   "execution_count": 46,
   "id": "1ce763aa",
   "metadata": {},
   "outputs": [
    {
     "name": "stdout",
     "output_type": "stream",
     "text": [
      "Enter a number : 19\n",
      "Yes, It is a prime number.\n"
     ]
    }
   ],
   "source": [
    "num = int(input(\"Enter a number : \"))\n",
    "divisors = 0\n",
    "count = 2\n",
    "while (count < num):\n",
    "    if (num % count == 0):\n",
    "        divisors += 1\n",
    "    count += 1\n",
    "if (divisors == 0):\n",
    "    print(\"Yes, It is a prime number.\")\n",
    "else:\n",
    "    print(\"No, It is not a prime number\")"
   ]
  },
  {
   "cell_type": "markdown",
   "id": "8f4b3f4c",
   "metadata": {},
   "source": [
    "30.input a number and print “Multiply perfect” if the input is a multiplu\n",
    "perfect. A number is multiply perfect if sum of all of its divisors is\n",
    "multiple of the number)"
   ]
  },
  {
   "cell_type": "code",
   "execution_count": 48,
   "id": "86af478e",
   "metadata": {},
   "outputs": [
    {
     "name": "stdout",
     "output_type": "stream",
     "text": [
      "Enter a number : 19\n",
      "Multiply perfect\n"
     ]
    }
   ],
   "source": [
    "num = int(input(\"Enter a number : \"))\n",
    "divisors_sum = 0\n",
    "count = 1\n",
    "while (count < num):\n",
    "    if (num % count == 0):\n",
    "        divisors_sum += count\n",
    "    count += 1\n",
    "if (divisors_sum!=0) and (num % divisors_sum == 0):\n",
    "    print(\"Multiply perfect\")"
   ]
  },
  {
   "cell_type": "markdown",
   "id": "9f8eec31",
   "metadata": {},
   "source": [
    "31-Input a number and print sum of all of its digits (using only numeric\n",
    "operators. String functions and operators are not allowed for any\n",
    "operation other than “int()” I.e. converting the string input to an integer)"
   ]
  },
  {
   "cell_type": "code",
   "execution_count": 72,
   "id": "22026364",
   "metadata": {},
   "outputs": [
    {
     "name": "stdout",
     "output_type": "stream",
     "text": [
      "Enter a number : 4344\n",
      "15\n"
     ]
    }
   ],
   "source": [
    "num = int(input(\"Enter a number : \"))\n",
    "digits_sum = 0\n",
    "while (num != 0):\n",
    "    digit = num % 10\n",
    "    digits_sum += digit\n",
    "    num = num // 10\n",
    "print(digits_sum)"
   ]
  },
  {
   "cell_type": "code",
   "execution_count": null,
   "id": "6622841c",
   "metadata": {},
   "outputs": [],
   "source": []
  }
 ],
 "metadata": {
  "kernelspec": {
   "display_name": "Python 3",
   "language": "python",
   "name": "python3"
  },
  "language_info": {
   "codemirror_mode": {
    "name": "ipython",
    "version": 3
   },
   "file_extension": ".py",
   "mimetype": "text/x-python",
   "name": "python",
   "nbconvert_exporter": "python",
   "pygments_lexer": "ipython3",
   "version": "3.8.8"
  }
 },
 "nbformat": 4,
 "nbformat_minor": 5
}
