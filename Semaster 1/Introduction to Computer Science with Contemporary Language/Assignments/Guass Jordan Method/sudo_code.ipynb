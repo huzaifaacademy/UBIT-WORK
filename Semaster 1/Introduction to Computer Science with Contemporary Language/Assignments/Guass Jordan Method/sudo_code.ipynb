{
 "cells": [
  {
   "cell_type": "code",
   "execution_count": 29,
   "id": "9bb799a2",
   "metadata": {},
   "outputs": [
    {
     "name": "stdout",
     "output_type": "stream",
     "text": [
      "[-3.5, -1.0, 1.6666666666666665]\n"
     ]
    }
   ],
   "source": [
    "data = [[2, -3, -5, -7],\n",
    "        [1,  -4, 1,   4],\n",
    "       [6,  2,-3,  -5]]\n",
    "\n",
    "\n",
    "def make_one(metrics, pvt_row):\n",
    "    pvt_elem = metrics[pvt_row][pvt_row]\n",
    "    inv_pvt_elem = 1/pvt_elem\n",
    "    for index, num in enumerate(metrics[pvt_row]):\n",
    "        metrics[pvt_row][index] = metrics[pvt_row][index] * inv_pvt_elem\n",
    "        \n",
    "def make_zero(metrics, row, i):\n",
    "    for index, num in enumerate(metrics[row]):\n",
    "        metrics[row][index] = -1*metrics[row][i] * metrics[i][index] + metrics[row][index]\n",
    "\n",
    "row_len = len(data[0])-1\n",
    "col_len = len(data)\n",
    "\n",
    "for i in range(row_len):\n",
    "    make_one(data, i)\n",
    "    for j in range(col_len):\n",
    "        if j != i:\n",
    "            make_zero(data, j, i)\n",
    "answers = []            \n",
    "for i in range(col_len):\n",
    "    answers.append(data[i][len(data[i])-1])\n",
    "print(answers)"
   ]
  },
  {
   "cell_type": "code",
   "execution_count": 35,
   "id": "aa35adab",
   "metadata": {},
   "outputs": [
    {
     "data": {
      "text/plain": [
       "0.0"
      ]
     },
     "execution_count": 35,
     "metadata": {},
     "output_type": "execute_result"
    }
   ],
   "source": [
    "n = -0.7654\n",
    "n+n*-1"
   ]
  },
  {
   "cell_type": "code",
   "execution_count": 27,
   "id": "68bebd22",
   "metadata": {},
   "outputs": [
    {
     "data": {
      "text/plain": [
       "1.0"
      ]
     },
     "execution_count": 27,
     "metadata": {},
     "output_type": "execute_result"
    }
   ],
   "source": [
    "n*1/n"
   ]
  },
  {
   "cell_type": "code",
   "execution_count": 30,
   "id": "18be024e",
   "metadata": {},
   "outputs": [],
   "source": [
    "eq1 = lambda values: 2*values[0] - 3*values[1] - 5*values[2]"
   ]
  },
  {
   "cell_type": "code",
   "execution_count": 31,
   "id": "39d10b8c",
   "metadata": {},
   "outputs": [
    {
     "data": {
      "text/plain": [
       "-12.333333333333332"
      ]
     },
     "execution_count": 31,
     "metadata": {},
     "output_type": "execute_result"
    }
   ],
   "source": [
    "eq1(answers)"
   ]
  },
  {
   "cell_type": "code",
   "execution_count": 26,
   "id": "1f9470ce",
   "metadata": {},
   "outputs": [
    {
     "data": {
      "text/plain": [
       "[[1.0, 0.0, 0.0, -3.5],\n",
       " [-0.0, 1.0, 0.0, -1.0],\n",
       " [-0.0, -0.0, 1.0, 1.6666666666666665]]"
      ]
     },
     "execution_count": 26,
     "metadata": {},
     "output_type": "execute_result"
    }
   ],
   "source": [
    "data"
   ]
  },
  {
   "cell_type": "code",
   "execution_count": 52,
   "id": "d24964ee",
   "metadata": {},
   "outputs": [
    {
     "name": "stdout",
     "output_type": "stream",
     "text": [
      "Enter number of unknowns: 3\n",
      "Enter Augmented Matrix Coefficients:\n",
      "a[0][0]=2\n",
      "a[0][1]=-3\n",
      "a[0][2]=-5\n",
      "a[0][3]=7\n",
      "a[1][0]=1\n",
      "a[1][1]=-4\n",
      "a[1][2]=1\n",
      "a[1][3]=-4\n",
      "a[2][0]=6\n",
      "a[2][1]=2\n",
      "a[2][2]=-3\n",
      "a[2][3]=5\n",
      "\n",
      "Required solution is: \n",
      "X0 = -0.23\tX1 = 0.50\tX2 = -1.79\t"
     ]
    }
   ],
   "source": [
    "# Importing NumPy Library\n",
    "import numpy as np\n",
    "import sys\n",
    "\n",
    "# Reading number of unknowns\n",
    "n = int(input('Enter number of unknowns: '))\n",
    "\n",
    "# Making numpy array of n x n+1 size and initializing \n",
    "# to zero for storing augmented matrix\n",
    "a = np.zeros((n,n+1))\n",
    "\n",
    "# Making numpy array of n size and initializing \n",
    "# to zero for storing solution vector\n",
    "x = np.zeros(n)\n",
    "\n",
    "# Reading augmented matrix coefficients\n",
    "print('Enter Augmented Matrix Coefficients:')\n",
    "for i in range(n):\n",
    "    for j in range(n+1):\n",
    "        a[i][j] = float(input( 'a['+str(i)+']['+ str(j)+']='))\n",
    "\n",
    "# Applying Gauss Jordan Elimination\n",
    "for i in range(n):\n",
    "    if a[i][i] == 0.0:\n",
    "        sys.exit('Divide by zero detected!')\n",
    "        \n",
    "    for j in range(n):\n",
    "        if i != j:\n",
    "            ratio = a[j][i]/a[i][i]\n",
    "\n",
    "            for k in range(n+1):\n",
    "                a[j][k] = a[j][k] - ratio * a[i][k]\n",
    "\n",
    "# Obtaining Solution\n",
    "\n",
    "for i in range(n):\n",
    "    x[i] = a[i][n]/a[i][i]\n",
    "\n",
    "# Displaying solution\n",
    "print('\\nRequired solution is: ')\n",
    "for i in range(n):\n",
    "    print('X%d = %0.2f' %(i,x[i]), end = '\\t')\n",
    "\n"
   ]
  },
  {
   "cell_type": "code",
   "execution_count": 59,
   "id": "780656d0",
   "metadata": {},
   "outputs": [
    {
     "data": {
      "text/plain": [
       "-0.05183992640294389"
      ]
     },
     "execution_count": 59,
     "metadata": {},
     "output_type": "execute_result"
    }
   ],
   "source": [
    "-49/945.2173913043478"
   ]
  },
  {
   "cell_type": "code",
   "execution_count": 46,
   "id": "8b1d8197",
   "metadata": {},
   "outputs": [],
   "source": [
    "x = [-217.4,\n",
    "-65.6,\n",
    "-49]"
   ]
  },
  {
   "cell_type": "code",
   "execution_count": 47,
   "id": "790aac7a",
   "metadata": {},
   "outputs": [
    {
     "data": {
      "text/plain": [
       "6.999999999999972"
      ]
     },
     "execution_count": 47,
     "metadata": {},
     "output_type": "execute_result"
    }
   ],
   "source": [
    "eq1(x)"
   ]
  },
  {
   "cell_type": "code",
   "execution_count": 48,
   "id": "bfb04573",
   "metadata": {},
   "outputs": [],
   "source": [
    "eq2 = lambda x: x[0] - 4*x[1] + x[2]"
   ]
  },
  {
   "cell_type": "code",
   "execution_count": 49,
   "id": "b71fb4cd",
   "metadata": {},
   "outputs": [
    {
     "data": {
      "text/plain": [
       "-4.000000000000028"
      ]
     },
     "execution_count": 49,
     "metadata": {},
     "output_type": "execute_result"
    }
   ],
   "source": [
    "eq2(x)"
   ]
  },
  {
   "cell_type": "code",
   "execution_count": 50,
   "id": "abb20c6c",
   "metadata": {},
   "outputs": [],
   "source": [
    "eq3 = lambda x : 6*x[0] + 2*x[1] - 3*x[2]"
   ]
  },
  {
   "cell_type": "code",
   "execution_count": 60,
   "id": "3b98fb64",
   "metadata": {},
   "outputs": [
    {
     "data": {
      "text/plain": [
       "5.000000000000015"
      ]
     },
     "execution_count": 60,
     "metadata": {},
     "output_type": "execute_result"
    }
   ],
   "source": [
    "eq3(x)"
   ]
  },
  {
   "cell_type": "code",
   "execution_count": null,
   "id": "93f95415",
   "metadata": {},
   "outputs": [],
   "source": []
  }
 ],
 "metadata": {
  "kernelspec": {
   "display_name": "Python 3",
   "language": "python",
   "name": "python3"
  },
  "language_info": {
   "codemirror_mode": {
    "name": "ipython",
    "version": 3
   },
   "file_extension": ".py",
   "mimetype": "text/x-python",
   "name": "python",
   "nbconvert_exporter": "python",
   "pygments_lexer": "ipython3",
   "version": "3.8.8"
  }
 },
 "nbformat": 4,
 "nbformat_minor": 5
}
