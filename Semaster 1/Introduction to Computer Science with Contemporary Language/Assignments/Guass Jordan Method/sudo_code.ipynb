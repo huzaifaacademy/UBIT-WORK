{
 "cells": [
  {
   "cell_type": "code",
   "execution_count": 3,
   "id": "9bb799a2",
   "metadata": {},
   "outputs": [
    {
     "name": "stdout",
     "output_type": "stream",
     "text": [
      "Enter number of unknowns: 3\n",
      "Enter Augmented Matrix Coefficients:\n",
      "data[0][0]=9\n",
      "data[0][1]=2\n",
      "data[0][2]=3\n",
      "data[0][3]=7\n",
      "data[1][0]=1\n",
      "data[1][1]=12\n",
      "data[1][2]=9\n",
      "data[1][3]=2\n",
      "data[2][0]=4\n",
      "data[2][1]=6\n",
      "data[2][2]=14\n",
      "data[2][3]=1\n",
      "[0.8050847457627118, 0.32203389830508466, -0.29661016949152536]\n"
     ]
    }
   ],
   "source": [
    "n = int(input(\"Enter number of unknowns: \"))\n",
    "\n",
    "data = []\n",
    "\n",
    "print('Enter Augmented Matrix Coefficients:')\n",
    "for i in range(n):\n",
    "    row = []\n",
    "    for j in range(n+1):\n",
    "        value = float(input( 'data['+str(i)+']['+ str(j)+']='))\n",
    "        row.append(value)\n",
    "    data.append(row)\n",
    "\n",
    "        \n",
    "def make_one(metrics, pvt_row):\n",
    "    pvt_elem = metrics[pvt_row][pvt_row]\n",
    "    inv_pvt_elem = 1/pvt_elem\n",
    "    for index, num in enumerate(metrics[pvt_row]):\n",
    "        metrics[pvt_row][index] = metrics[pvt_row][index] * inv_pvt_elem\n",
    "        \n",
    "def make_zero(metrics, row, i):\n",
    "    pvt_elem = metrics[row][i]\n",
    "    inv_pvt_elem = pvt_elem * -1\n",
    "    for index, num in enumerate(metrics[row]):\n",
    "        metrics[row][index] = (inv_pvt_elem * metrics[i][index]) + num\n",
    "\n",
    "\n",
    "\n",
    "for i in range(n):\n",
    "    make_one(data, i)\n",
    "    for j in range(n):\n",
    "        if j != i:\n",
    "            make_zero(data, j, i)\n",
    "\n",
    "answers = []            \n",
    "for i in range(n):\n",
    "    answers.append(data[i][len(data[i])-1])\n",
    "print(answers)"
   ]
  },
  {
   "cell_type": "code",
   "execution_count": 22,
   "id": "18be024e",
   "metadata": {},
   "outputs": [],
   "source": [
    "eq1 = lambda values: 4*values[0] - 3*values[1] + values[2]"
   ]
  },
  {
   "cell_type": "code",
   "execution_count": 23,
   "id": "39d10b8c",
   "metadata": {},
   "outputs": [
    {
     "data": {
      "text/plain": [
       "-10.0"
      ]
     },
     "execution_count": 23,
     "metadata": {},
     "output_type": "execute_result"
    }
   ],
   "source": [
    "eq1(answers)"
   ]
  },
  {
   "cell_type": "code",
   "execution_count": 24,
   "id": "bfb04573",
   "metadata": {},
   "outputs": [],
   "source": [
    "eq2 = lambda x: 2*x[0] + x[1] + 3*x[2]"
   ]
  },
  {
   "cell_type": "code",
   "execution_count": 26,
   "id": "b71fb4cd",
   "metadata": {},
   "outputs": [
    {
     "data": {
      "text/plain": [
       "0.0"
      ]
     },
     "execution_count": 26,
     "metadata": {},
     "output_type": "execute_result"
    }
   ],
   "source": [
    "eq2(answers)"
   ]
  },
  {
   "cell_type": "code",
   "execution_count": 27,
   "id": "abb20c6c",
   "metadata": {},
   "outputs": [],
   "source": [
    "eq3 = lambda x : -1*x[0] + 2*x[1] - 5*x[2]"
   ]
  },
  {
   "cell_type": "code",
   "execution_count": 28,
   "id": "3b98fb64",
   "metadata": {},
   "outputs": [
    {
     "data": {
      "text/plain": [
       "17.0"
      ]
     },
     "execution_count": 28,
     "metadata": {},
     "output_type": "execute_result"
    }
   ],
   "source": [
    "eq3(answers)"
   ]
  }
 ],
 "metadata": {
  "kernelspec": {
   "display_name": "Python 3",
   "language": "python",
   "name": "python3"
  },
  "language_info": {
   "codemirror_mode": {
    "name": "ipython",
    "version": 3
   },
   "file_extension": ".py",
   "mimetype": "text/x-python",
   "name": "python",
   "nbconvert_exporter": "python",
   "pygments_lexer": "ipython3",
   "version": "3.8.8"
  }
 },
 "nbformat": 4,
 "nbformat_minor": 5
}
