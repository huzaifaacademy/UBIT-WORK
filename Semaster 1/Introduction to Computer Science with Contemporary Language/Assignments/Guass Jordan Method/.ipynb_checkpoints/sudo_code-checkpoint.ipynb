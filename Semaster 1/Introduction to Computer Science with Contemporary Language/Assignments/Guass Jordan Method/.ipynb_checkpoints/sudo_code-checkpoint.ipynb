{
 "cells": [
  {
   "cell_type": "code",
   "execution_count": 25,
   "id": "9bb799a2",
   "metadata": {},
   "outputs": [
    {
     "name": "stdout",
     "output_type": "stream",
     "text": [
      "[-3.5, -1.0, 1.6666666666666665]\n"
     ]
    }
   ],
   "source": [
    "data = [[2, -3, -5, -7],\n",
    "        [1,  -4, 1,   4],\n",
    "       [6,  2,-3,  -5]]\n",
    "\n",
    "def get_mul_inverse(n):\n",
    "    neg = False\n",
    "    if n < 0:\n",
    "        neg = True\n",
    "    n = abs(n)\n",
    "    rev=0\n",
    "    while(n>0):\n",
    "        dig=n%10\n",
    "        rev=rev*10+dig \n",
    "        n=n//10 \n",
    "    if neg:\n",
    "        return -1/rev\n",
    "    return 1/rev\n",
    "\n",
    "def get_add_inv(n):\n",
    "    if n<0:\n",
    "        return n\n",
    "    return -n\n",
    "\n",
    "def make_one(metrics, pvt_row):\n",
    "    pvt_elem = metrics[pvt_row][pvt_row]\n",
    "    inv_pvt_elem = get_mul_inverse(pvt_elem)\n",
    "    for index, num in enumerate(metrics[pvt_row]):\n",
    "        metrics[pvt_row][index] = metrics[pvt_row][index] * inv_pvt_elem\n",
    "        \n",
    "def make_zero(metrics, row, i):\n",
    "    for index, num in enumerate(metrics[row]):\n",
    "        metrics[row][index] = -1*metrics[row][i] * metrics[i][index] + metrics[row][index]\n",
    "\n",
    "row_len = len(data[0])-1\n",
    "col_len = len(data)\n",
    "\n",
    "for i in range(row_len):\n",
    "    make_one(data, i)\n",
    "    for j in range(col_len):\n",
    "        if j != i:\n",
    "            make_zero(data, j, i)\n",
    "answers = []            \n",
    "for i in range(col_len):\n",
    "    answers.append(data[i][len(data[i])-1])\n",
    "print(answers)"
   ]
  },
  {
   "cell_type": "code",
   "execution_count": 22,
   "id": "18be024e",
   "metadata": {},
   "outputs": [],
   "source": [
    "eq1 = lambda values: 2*values[0] - 3*values[1] - 5*values[2]"
   ]
  },
  {
   "cell_type": "code",
   "execution_count": 23,
   "id": "39d10b8c",
   "metadata": {},
   "outputs": [
    {
     "data": {
      "text/plain": [
       "-12.333333333333332"
      ]
     },
     "execution_count": 23,
     "metadata": {},
     "output_type": "execute_result"
    }
   ],
   "source": [
    "eq1(answers)"
   ]
  },
  {
   "cell_type": "code",
   "execution_count": 26,
   "id": "1f9470ce",
   "metadata": {},
   "outputs": [
    {
     "data": {
      "text/plain": [
       "[[1.0, 0.0, 0.0, -3.5],\n",
       " [-0.0, 1.0, 0.0, -1.0],\n",
       " [-0.0, -0.0, 1.0, 1.6666666666666665]]"
      ]
     },
     "execution_count": 26,
     "metadata": {},
     "output_type": "execute_result"
    }
   ],
   "source": [
    "data"
   ]
  },
  {
   "cell_type": "code",
   "execution_count": 34,
   "id": "d24964ee",
   "metadata": {},
   "outputs": [
    {
     "name": "stdout",
     "output_type": "stream",
     "text": [
      "Enter number of unknowns: 3\n",
      "Enter Augmented Matrix Coefficients:\n",
      "a[0][0]=0\n",
      "a[0][1]=0\n",
      "a[0][2]=0\n",
      "a[0][3]=0\n",
      "a[1][0]=0\n",
      "a[1][1]=0\n",
      "a[1][2]=0\n",
      "a[1][3]=0\n",
      "a[2][0]=0\n",
      "a[2][1]=0\n",
      "a[2][2]=0\n",
      "a[2][3]=0\n"
     ]
    },
    {
     "ename": "SystemExit",
     "evalue": "Divide by zero detected!",
     "output_type": "error",
     "traceback": [
      "An exception has occurred, use %tb to see the full traceback.\n",
      "\u001b[1;31mSystemExit\u001b[0m\u001b[1;31m:\u001b[0m Divide by zero detected!\n"
     ]
    },
    {
     "name": "stderr",
     "output_type": "stream",
     "text": [
      "C:\\Users\\Huzaifa\\Anaconda3\\lib\\site-packages\\IPython\\core\\interactiveshell.py:3445: UserWarning: To exit: use 'exit', 'quit', or Ctrl-D.\n",
      "  warn(\"To exit: use 'exit', 'quit', or Ctrl-D.\", stacklevel=1)\n"
     ]
    }
   ],
   "source": [
    "# Importing NumPy Library\n",
    "import numpy as np\n",
    "import sys\n",
    "\n",
    "# Reading number of unknowns\n",
    "n = int(input('Enter number of unknowns: '))\n",
    "\n",
    "# Making numpy array of n x n+1 size and initializing \n",
    "# to zero for storing augmented matrix\n",
    "a = np.zeros((n,n+1))\n",
    "\n",
    "# Making numpy array of n size and initializing \n",
    "# to zero for storing solution vector\n",
    "x = np.zeros(n)\n",
    "\n",
    "# Reading augmented matrix coefficients\n",
    "print('Enter Augmented Matrix Coefficients:')\n",
    "for i in range(n):\n",
    "    for j in range(n+1):\n",
    "        a[i][j] = float(input( 'a['+str(i)+']['+ str(j)+']='))\n",
    "\n",
    "# Applying Gauss Jordan Elimination\n",
    "for i in range(n):\n",
    "    if a[i][i] == 0.0:\n",
    "        sys.exit('Divide by zero detected!')\n",
    "        \n",
    "    for j in range(n):\n",
    "        if i != j:\n",
    "            ratio = a[j][i]/a[i][i]\n",
    "\n",
    "            for k in range(n+1):\n",
    "                a[j][k] = a[j][k] - ratio * a[i][k]\n",
    "\n",
    "# Obtaining Solution\n",
    "\n",
    "for i in range(n):\n",
    "    x[i] = a[i][n]/a[i][i]\n",
    "\n",
    "# Displaying solution\n",
    "print('\\nRequired solution is: ')\n",
    "for i in range(n):\n",
    "    print('X%d = %0.2f' %(i,x[i]), end = '\\t')\n"
   ]
  },
  {
   "cell_type": "code",
   "execution_count": 28,
   "id": "8b1d8197",
   "metadata": {},
   "outputs": [
    {
     "data": {
      "text/plain": [
       "array([-0.22627737,  0.49635036, -1.78832117])"
      ]
     },
     "execution_count": 28,
     "metadata": {},
     "output_type": "execute_result"
    }
   ],
   "source": [
    "x"
   ]
  },
  {
   "cell_type": "code",
   "execution_count": 29,
   "id": "790aac7a",
   "metadata": {},
   "outputs": [
    {
     "data": {
      "text/plain": [
       "7.000000000000003"
      ]
     },
     "execution_count": 29,
     "metadata": {},
     "output_type": "execute_result"
    }
   ],
   "source": [
    "eq1(x)"
   ]
  },
  {
   "cell_type": "code",
   "execution_count": 30,
   "id": "bfb04573",
   "metadata": {},
   "outputs": [],
   "source": [
    "eq2 = lambda x: x[0] - 4*x[1] + x[2]"
   ]
  },
  {
   "cell_type": "code",
   "execution_count": 31,
   "id": "b71fb4cd",
   "metadata": {},
   "outputs": [
    {
     "data": {
      "text/plain": [
       "-3.999999999999999"
      ]
     },
     "execution_count": 31,
     "metadata": {},
     "output_type": "execute_result"
    }
   ],
   "source": [
    "eq2(x)"
   ]
  },
  {
   "cell_type": "code",
   "execution_count": 32,
   "id": "abb20c6c",
   "metadata": {},
   "outputs": [],
   "source": [
    "eq3 = lambda x : 6*x[0] + 2*x[1] -3*x[2]"
   ]
  },
  {
   "cell_type": "code",
   "execution_count": 33,
   "id": "3b98fb64",
   "metadata": {},
   "outputs": [
    {
     "data": {
      "text/plain": [
       "5.000000000000015"
      ]
     },
     "execution_count": 33,
     "metadata": {},
     "output_type": "execute_result"
    }
   ],
   "source": [
    "eq3(x)"
   ]
  },
  {
   "cell_type": "code",
   "execution_count": null,
   "id": "93f95415",
   "metadata": {},
   "outputs": [],
   "source": []
  }
 ],
 "metadata": {
  "kernelspec": {
   "display_name": "Python 3",
   "language": "python",
   "name": "python3"
  },
  "language_info": {
   "codemirror_mode": {
    "name": "ipython",
    "version": 3
   },
   "file_extension": ".py",
   "mimetype": "text/x-python",
   "name": "python",
   "nbconvert_exporter": "python",
   "pygments_lexer": "ipython3",
   "version": "3.8.8"
  }
 },
 "nbformat": 4,
 "nbformat_minor": 5
}
