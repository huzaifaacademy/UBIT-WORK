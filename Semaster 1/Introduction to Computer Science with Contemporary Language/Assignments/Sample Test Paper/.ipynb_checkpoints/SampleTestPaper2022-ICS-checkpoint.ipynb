{
 "cells": [
  {
   "cell_type": "markdown",
   "id": "350852c2",
   "metadata": {},
   "source": [
    "# **Sample Test Paper Answers**"
   ]
  },
  {
   "cell_type": "markdown",
   "id": "fad252b4",
   "metadata": {},
   "source": [
    "### Question 2"
   ]
  },
  {
   "cell_type": "code",
   "execution_count": 6,
   "id": "774b95ae",
   "metadata": {},
   "outputs": [
    {
     "name": "stdout",
     "output_type": "stream",
     "text": [
      "Enter marks for subject 1 : 83\n",
      "Enter marks for subject 2 : 71\n",
      "Enter marks for subject 3 : 67\n",
      "Enter marks for subject 4 : 76\n",
      "Enter marks for subject 5 : 57\n",
      "Enter marks for subject 6 : 90\n",
      "Enter marks for subject 7 : 95\n",
      "Subject: 1 Mark: 83 Point: 3.8\n",
      "Subject: 2 Mark: 71 Point: 3.0\n",
      "Subject: 3 Mark: 67 Point: 2.4\n",
      "Subject: 4 Mark: 76 Point: 3.4\n",
      "Subject: 5 Mark: 57 Point: 1.8\n",
      "Subject: 6 Mark: 90 Point: 4.0\n",
      "Subject: 7 Mark: 95 Point: 4.0\n",
      "Total Grade Points:  22.4\n"
     ]
    }
   ],
   "source": [
    "def calculateGradePoint(mark):\n",
    "    if mark >= 85:\n",
    "        grade_point = 4.0\n",
    "    elif mark >= 80:\n",
    "        grade_point = 3.8\n",
    "    elif mark >= 75:\n",
    "        grade_point = 3.4\n",
    "    elif mark >= 71:\n",
    "        grade_point = 3.0\n",
    "    elif mark >= 68:\n",
    "        grade_point = 2.8\n",
    "    elif mark >= 64:\n",
    "        grade_point = 2.4\n",
    "    elif mark >= 61:\n",
    "        grade_point = 2.0\n",
    "    elif mark >= 57:\n",
    "        grade_point = 1.8\n",
    "    elif mark >= 53:\n",
    "        grade_point = 1.4\n",
    "    elif mark >= 50:\n",
    "        grade_point = 1.0\n",
    "    else:\n",
    "        grade_point = 0.0\n",
    "    return grade_point\n",
    "        \n",
    "marks = []\n",
    "grade_points = []\n",
    "count = 1\n",
    "while (len(marks) < 7):\n",
    "    num = int(input(f\"Enter marks for subject {count} : \"))\n",
    "    if ((num >= 0) and (num <= 100)):\n",
    "        marks.append(num)\n",
    "        grade_pt = calculateGradePoint(num)\n",
    "        grade_points.append(grade_pt)\n",
    "        count += 1\n",
    "    else:\n",
    "        print(\"Invalid marks. Try again\")\n",
    "\n",
    "for index, pts in enumerate(grade_points):\n",
    "    print(f\"Subject: {index+1} Mark: {marks[index]} Point: {pts}\")\n",
    "\n",
    "total_points = sum(grade_points)\n",
    "print(\"\\nTotal Grade Points: \",total_points)"
   ]
  },
  {
   "cell_type": "markdown",
   "id": "d286504f",
   "metadata": {},
   "source": [
    "### Question 3"
   ]
  },
  {
   "cell_type": "code",
   "execution_count": 2,
   "id": "70fbb861",
   "metadata": {},
   "outputs": [
    {
     "name": "stdout",
     "output_type": "stream",
     "text": [
      "Total Sale Amount : 32397\n",
      "\n",
      "Month Wise Sales Amount\n",
      "=====================\n",
      "Month=6, Amount=13241\n",
      "Month=7, Amount=10337\n",
      "Month=8, Amount=8819\n",
      "\n",
      "Sale Person ID Wise Sales Amount\n",
      "================================\n",
      "ID=11, Amount=8532\n",
      "ID=12, Amount=8068\n",
      "ID=13, Amount=8201\n",
      "ID=14, Amount=7596\n"
     ]
    }
   ],
   "source": [
    "file = open(\"SalesData.txt\", \"r\")\n",
    "\n",
    "# Read Data\n",
    "sd = []\n",
    "columns = file.readline().split(\"\\t\")\n",
    "for i in range(200):\n",
    "    row = file.readline().split(\"\\t\")\n",
    "    row[-1] = row[-1][:-1]    # removing \\n from the end of last field\n",
    "    sd.append(row)\n",
    "file.close()\n",
    "\n",
    "# Process Data to calculate total sale amount, month-wise sale amount & Sale Person ID wise sales amount\n",
    "total_amt = 0\n",
    "\n",
    "months = []\n",
    "amt_monthWise = []\n",
    "\n",
    "IDs = []\n",
    "amt_salePersonIdWise = []\n",
    "\n",
    "for row in sd:\n",
    "    \n",
    "    # for total sale amount\n",
    "    amt = int(row[4])*int(row[5])\n",
    "    total_amt += amt\n",
    "    \n",
    "    # for month-wise sale amount\n",
    "    month = row[1]\n",
    "    if month not in months:  # if entry not exists\n",
    "        months.append(month) # new entry\n",
    "        amt_monthWise.append(amt)\n",
    "    else:\n",
    "        index = months.index(month) # get position index where entry present\n",
    "        amt_monthWise[index] += amt\n",
    "    \n",
    "    # for month-wise sale amount\n",
    "    Id = row[3]\n",
    "    if Id not in IDs:  # if entry not exists\n",
    "        IDs.append(Id) # new entry\n",
    "        amt_salePersonIdWise.append(amt)\n",
    "    else:\n",
    "        index = IDs.index(Id) # get position index where entry present\n",
    "        amt_salePersonIdWise[index] += amt\n",
    "\n",
    "# Sorting\n",
    "        \n",
    "final_months = []\n",
    "for i in zip(months, amt_monthWise):\n",
    "    final_months.append(i)\n",
    "final_months = sorted(final_months)\n",
    "\n",
    "final_IDs = []\n",
    "for i in zip(IDs, amt_salePersonIdWise):\n",
    "    final_IDs.append(i)\n",
    "final_IDs = sorted(final_IDs)\n",
    "\n",
    "\n",
    "# Output\n",
    "\n",
    "print(f\"Total Sale Amount : {total_amt}\\n\")\n",
    "\n",
    "print(\"Month Wise Sales Amount\")\n",
    "print(\"=====================\")\n",
    "for month, amt in final_months:\n",
    "    print(f\"Month={month}, Amount={amt}\")\n",
    "    \n",
    "print(\"\")\n",
    "print(\"Sale Person ID Wise Sales Amount\")\n",
    "print(\"================================\")\n",
    "for Id, amt in final_IDs:\n",
    "    print(f\"ID={Id}, Amount={amt}\")"
   ]
  },
  {
   "cell_type": "markdown",
   "id": "da780976",
   "metadata": {},
   "source": [
    "### Question 4 (a)"
   ]
  },
  {
   "cell_type": "code",
   "execution_count": 8,
   "id": "be9adcd3",
   "metadata": {},
   "outputs": [
    {
     "name": "stdout",
     "output_type": "stream",
     "text": [
      "Enter number of unknowns: 2\n",
      "Enter Augmented Matrix Coefficients:\n",
      "data[0][0]=7\n",
      "data[0][1]=-1\n",
      "data[0][2]=6\n",
      "data[1][0]=-1\n",
      "data[1][1]=5\n",
      "data[1][2]=4\n",
      "Enter tolerable Error : 0\n",
      "[1.0, 1.0]\n"
     ]
    }
   ],
   "source": [
    "n = int(input(\"Enter number of unknowns: \"))\n",
    "\n",
    "data = []\n",
    "\n",
    "print('Enter Augmented Matrix Coefficients:')\n",
    "for i in range(n):\n",
    "    row = []\n",
    "    for j in range(n+1):\n",
    "        value = float(input( 'data['+str(i)+']['+ str(j)+']='))\n",
    "        row.append(value)\n",
    "    data.append(row)\n",
    "\n",
    "te = int(input(\"Enter tolerable Error : \"))\n",
    "\n",
    "x = []\n",
    "accuracy = []\n",
    "acceptance = []\n",
    "\n",
    "# Initial Guess 0\n",
    "for __ in range(n):\n",
    "    x.append(0)\n",
    "    accuracy.append(0)\n",
    "    acceptance.append(\"Not Accepted\")\n",
    "    \n",
    "while (\"Not Accepted\" in acceptance):\n",
    "    \n",
    "    for i in range(n):\n",
    "        rhs = data[i][-1]\n",
    "        i_coeff = data[i][i]\n",
    "        except_i = 0\n",
    "        for j in range(n):\n",
    "            if i != j:\n",
    "                except_i += data[i][j]*x[j]\n",
    "        x[i] = (rhs - except_i) / i_coeff\n",
    "\n",
    "#     for n = 3        \n",
    "#     x[0] = (data[0][3]-(data[0][1]*x[1]+data[0][2]*x[2]))/data[0][0]\n",
    "#     x[1] = (data[1][3]-(data[1][0]*x[0]+data[1][2]*x[2]))/data[1][1]\n",
    "#     x[2] = (data[2][3]-(data[2][0]*x[0]+data[2][1]*x[1]))/data[2][2]\n",
    "    \n",
    "    for i in range(n):\n",
    "        rhs = data[i][-1]\n",
    "        lhs = 0\n",
    "        for j in range(n):\n",
    "            lhs += data[i][j]*x[j]\n",
    "        accuracy[i] = abs(rhs-lhs)\n",
    "\n",
    "#     for n = 3\n",
    "#     accuracy[0] = data[0][3]-(data[0][0]*x[0]+data[0][1]*x[1]+data[0][2]*x[2])\n",
    "#     accuracy[1] = data[1][3]-(data[1][0]*x[0]+data[1][1]*x[1]+data[1][2]*x[2])\n",
    "#     accuracy[2] = data[2][3]-(data[2][0]*x[0]+data[2][1]*x[1]+data[2][2]*x[2])\n",
    "    \n",
    "    for i in range(n):\n",
    "        if accuracy[i] <= te:\n",
    "            acceptance[i] = \"Accepted\"\n",
    "    \n",
    "#     for n = 3 \n",
    "#     if abs(accuracy[0])<=te:\n",
    "#         acceptance[0] = \"Accepted\"\n",
    "    \n",
    "#     if abs(accuracy[1])<=te:\n",
    "#         acceptance[1] = \"Accepted\"\n",
    "        \n",
    "#     if abs(accuracy[2])<=te:\n",
    "#         acceptance[2] = \"Accepted\"\n",
    "        \n",
    "print(x)"
   ]
  },
  {
   "cell_type": "markdown",
   "id": "c3c1efc9",
   "metadata": {},
   "source": [
    "### Question 4(b)"
   ]
  },
  {
   "cell_type": "code",
   "execution_count": 91,
   "id": "db2633f8",
   "metadata": {},
   "outputs": [
    {
     "name": "stdout",
     "output_type": "stream",
     "text": [
      "-0.6180344478216819\n"
     ]
    }
   ],
   "source": [
    "def func(x):\n",
    "    return x**2 - x - 1\n",
    "    \n",
    "def func_deriv(x):\n",
    "    return 2*x - 1\n",
    "\n",
    "te = 0.001  # upto 3-deicmal places\n",
    "x = 0\n",
    "\n",
    "y = func(x)\n",
    "slope = func_deriv(x)\n",
    "\n",
    "while abs(y)>te:\n",
    "    x = x-(y/slope)\n",
    "    y = func(x)\n",
    "    slope = func_deriv(x)\n",
    "    \n",
    "print(x)"
   ]
  },
  {
   "cell_type": "markdown",
   "id": "519f1e42",
   "metadata": {},
   "source": [
    "### Question 8"
   ]
  },
  {
   "cell_type": "markdown",
   "id": "752be1a2",
   "metadata": {},
   "source": [
    "![\"Trace Table\"](Question8.jpg)"
   ]
  },
  {
   "cell_type": "markdown",
   "id": "2974390d",
   "metadata": {},
   "source": [
    "### Question 9"
   ]
  },
  {
   "cell_type": "code",
   "execution_count": 49,
   "id": "da760125",
   "metadata": {},
   "outputs": [
    {
     "name": "stdout",
     "output_type": "stream",
     "text": [
      "Enter five-digit number : 12391\n",
      "23402\n"
     ]
    }
   ],
   "source": [
    "num = int(input(\"Enter five-digit number : \"))\n",
    "length = len(str(num))\n",
    "output_num = ''\n",
    "for __ in range(length):\n",
    "    digit = num % 10\n",
    "    digit += 1\n",
    "    if digit==10:\n",
    "        output_num = '0' + output_num\n",
    "    else:\n",
    "        output_num = str(digit) + output_num\n",
    "    num = num // 10\n",
    "print(output_num)"
   ]
  },
  {
   "cell_type": "markdown",
   "id": "d753bdb9",
   "metadata": {},
   "source": [
    "### Question 10"
   ]
  },
  {
   "cell_type": "code",
   "execution_count": 40,
   "id": "66e2c551",
   "metadata": {},
   "outputs": [
    {
     "name": "stdout",
     "output_type": "stream",
     "text": [
      "How many number of days your group stay in hotel : 1\n",
      "How many members are there in your group : 2\n",
      "Enter the name of member 1 : huzaifa\n",
      "Enter the age for member 1 : 19\n",
      "Enter the name of member 2 : rafay\n",
      "Enter the age for member 2 : 90\n",
      "3750.0\n"
     ]
    }
   ],
   "source": [
    "def calculate_amt(per_person_amt):\n",
    "    global members_age, total_amt, no_days\n",
    "    for age in members_age:\n",
    "        if age<60:\n",
    "            total_amt += per_person_amt*no_days\n",
    "        else:\n",
    "            total_amt += per_person_amt*0.5*no_days\n",
    "\n",
    "no_days = int(input(\"How many number of days your group stay in hotel : \"))\n",
    "no_memb = int(input(\"How many members are there in your group : \"))\n",
    "\n",
    "members_age = []\n",
    "members_name = []\n",
    "\n",
    "for i in range(no_memb):\n",
    "    name = input(f\"Enter the name of member {i+1} : \")\n",
    "    age = int(input(f\"Enter the age for member {i+1} : \"))\n",
    "    members_name.append(name)\n",
    "    members_age.append(age)\n",
    "    \n",
    "total_amt = 0\n",
    "\n",
    "if no_memb == 2:\n",
    "    calculate_amt(2500)\n",
    "elif no_memb == 3:\n",
    "    calculate_amt(2000)\n",
    "elif no_memb == 4:\n",
    "    calculate_amt(1750)\n",
    "else:\n",
    "    calculate_amt(1500)\n",
    "\n",
    "print(total_amt)"
   ]
  },
  {
   "cell_type": "code",
   "execution_count": null,
   "id": "4eb40e8b",
   "metadata": {},
   "outputs": [],
   "source": []
  }
 ],
 "metadata": {
  "kernelspec": {
   "display_name": "Python 3 (ipykernel)",
   "language": "python",
   "name": "python3"
  },
  "language_info": {
   "codemirror_mode": {
    "name": "ipython",
    "version": 3
   },
   "file_extension": ".py",
   "mimetype": "text/x-python",
   "name": "python",
   "nbconvert_exporter": "python",
   "pygments_lexer": "ipython3",
   "version": "3.9.7"
  }
 },
 "nbformat": 4,
 "nbformat_minor": 5
}
