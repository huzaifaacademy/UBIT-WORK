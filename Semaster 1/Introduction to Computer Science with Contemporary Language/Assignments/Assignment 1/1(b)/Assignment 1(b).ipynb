{
 "cells": [
  {
   "cell_type": "code",
   "execution_count": null,
   "id": "60763176",
   "metadata": {
    "colab": {
     "base_uri": "https://localhost:8080/"
    },
    "executionInfo": {
     "elapsed": 247542,
     "status": "ok",
     "timestamp": 1646993502563,
     "user": {
      "displayName": "Muhammad Huzaifa Khan",
      "photoUrl": "https://lh3.googleusercontent.com/a/default-user=s64",
      "userId": "13946957789452089931"
     },
     "user_tz": -300
    },
    "id": "60763176",
    "outputId": "da0b7262-24e1-4ccc-994f-2dec931e8f12"
   },
   "outputs": [
    {
     "name": "stdout",
     "output_type": "stream",
     "text": [
      "Enter 1 for series 2 for parallel :4\n",
      "Please input valid choice\n",
      "Enter 1 for series 2 for parallel :2\n",
      "Enter resistance separated by commas :3 4, 5\n",
      "Please input numbers only. Make sure numbers separated by comma (',') \n",
      "Enter resistance separated by commas :3,4,5\n",
      "1.2766\n"
     ]
    }
   ],
   "source": [
    "# Program to Calculate Resistance in parallel or series both\n",
    "\n",
    "def series(resistances):\n",
    "    return sum(resistances)\n",
    "\n",
    "def parallel(resistances):\n",
    "    return f\"{1/sum([1/resistance for resistance in resistances]):.4f}\"\n",
    "correctType = False\n",
    "while True:\n",
    "    if not(correctType):\n",
    "        type_ = input(\"Enter 1 for series 2 for parallel :\")\n",
    "    try:\n",
    "        assert type_ in ['1', '2']\n",
    "        correctType = True\n",
    "        resistances = input(\"Enter resistance separated by commas :\").split(\",\")\n",
    "        resistances = list(map(int, resistances))\n",
    "        break\n",
    "    except AssertionError:\n",
    "        print(\"Please input valid choice\")\n",
    "    except ValueError: \n",
    "        print(\"Please input numbers only. Make sure numbers separated by comma (',') \")\n",
    "if type_ == '1':\n",
    "    print(series(resistances))\n",
    "else:\n",
    "    print(parallel(resistances))"
   ]
  },
  {
   "cell_type": "code",
   "execution_count": null,
   "id": "Ip9dPK_qcl8s",
   "metadata": {
    "colab": {
     "base_uri": "https://localhost:8080/"
    },
    "executionInfo": {
     "elapsed": 13,
     "status": "ok",
     "timestamp": 1646995033807,
     "user": {
      "displayName": "Muhammad Huzaifa Khan",
      "photoUrl": "https://lh3.googleusercontent.com/a/default-user=s64",
      "userId": "13946957789452089931"
     },
     "user_tz": -300
    },
    "id": "Ip9dPK_qcl8s",
    "outputId": "87887f40-ee8a-43ac-c946-e97190c32c31"
   },
   "outputs": [
    {
     "data": {
      "text/plain": [
       "[1, 2, 4, 8]"
      ]
     },
     "execution_count": 5,
     "metadata": {},
     "output_type": "execute_result"
    }
   ],
   "source": [
    "sorted([4,2,8,1])"
   ]
  },
  {
   "cell_type": "code",
   "execution_count": null,
   "id": "pM5G5fnJh-Nw",
   "metadata": {
    "id": "pM5G5fnJh-Nw"
   },
   "outputs": [],
   "source": [
    "a = {1:'a',2:'b'}"
   ]
  },
  {
   "cell_type": "code",
   "execution_count": null,
   "id": "FFfW_Ebvrkla",
   "metadata": {
    "colab": {
     "base_uri": "https://localhost:8080/"
    },
    "executionInfo": {
     "elapsed": 8,
     "status": "ok",
     "timestamp": 1646997171538,
     "user": {
      "displayName": "Muhammad Huzaifa Khan",
      "photoUrl": "https://lh3.googleusercontent.com/a/default-user=s64",
      "userId": "13946957789452089931"
     },
     "user_tz": -300
    },
    "id": "FFfW_Ebvrkla",
    "outputId": "ccdcac65-b8d8-4953-86cb-e271c6941ec6"
   },
   "outputs": [
    {
     "data": {
      "text/plain": [
       "True"
      ]
     },
     "execution_count": 2,
     "metadata": {},
     "output_type": "execute_result"
    }
   ],
   "source": [
    "1 in a.keys()"
   ]
  },
  {
   "cell_type": "code",
   "execution_count": null,
   "id": "AhvoQwa5rlu1",
   "metadata": {
    "id": "AhvoQwa5rlu1"
   },
   "outputs": [],
   "source": [
    "a = [1,2, 3, 4, 1]"
   ]
  },
  {
   "cell_type": "code",
   "execution_count": null,
   "id": "VUKUjv6-sXXJ",
   "metadata": {
    "colab": {
     "base_uri": "https://localhost:8080/"
    },
    "executionInfo": {
     "elapsed": 19,
     "status": "ok",
     "timestamp": 1646997381380,
     "user": {
      "displayName": "Muhammad Huzaifa Khan",
      "photoUrl": "https://lh3.googleusercontent.com/a/default-user=s64",
      "userId": "13946957789452089931"
     },
     "user_tz": -300
    },
    "id": "VUKUjv6-sXXJ",
    "outputId": "1ae6cab8-3e5d-424c-e755-1ec73389ea00"
   },
   "outputs": [
    {
     "name": "stdout",
     "output_type": "stream",
     "text": [
      "[2, 3, 4, 1]\n"
     ]
    }
   ],
   "source": [
    "a.remove(1)\n",
    "print(a)"
   ]
  },
  {
   "cell_type": "code",
   "execution_count": 1,
   "id": "rPD9aARRsY5x",
   "metadata": {
    "colab": {
     "base_uri": "https://localhost:8080/",
     "height": 183
    },
    "executionInfo": {
     "elapsed": 21,
     "status": "error",
     "timestamp": 1646999921987,
     "user": {
      "displayName": "Muhammad Huzaifa Khan",
      "photoUrl": "https://lh3.googleusercontent.com/a/default-user=s64",
      "userId": "13946957789452089931"
     },
     "user_tz": -300
    },
    "id": "rPD9aARRsY5x",
    "outputId": "10817c2c-8055-4e4d-98f5-3bf51f2bb666"
   },
   "outputs": [
    {
     "ename": "NameError",
     "evalue": "ignored",
     "output_type": "error",
     "traceback": [
      "\u001b[0;31m---------------------------------------------------------------------------\u001b[0m",
      "\u001b[0;31mNameError\u001b[0m                                 Traceback (most recent call last)",
      "\u001b[0;32m<ipython-input-1-745a8ca332e7>\u001b[0m in \u001b[0;36m<module>\u001b[0;34m()\u001b[0m\n\u001b[0;32m----> 1\u001b[0;31m \u001b[0;32mfor\u001b[0m \u001b[0mi\u001b[0m \u001b[0;32min\u001b[0m \u001b[0mxrange\u001b[0m\u001b[0;34m(\u001b[0m\u001b[0;36m4\u001b[0m\u001b[0;34m)\u001b[0m\u001b[0;34m:\u001b[0m\u001b[0;34m\u001b[0m\u001b[0;34m\u001b[0m\u001b[0m\n\u001b[0m\u001b[1;32m      2\u001b[0m   \u001b[0mprint\u001b[0m\u001b[0;34m(\u001b[0m\u001b[0mi\u001b[0m\u001b[0;34m)\u001b[0m\u001b[0;34m\u001b[0m\u001b[0;34m\u001b[0m\u001b[0m\n",
      "\u001b[0;31mNameError\u001b[0m: name 'xrange' is not defined"
     ]
    }
   ],
   "source": [
    "for i in xrange(4):\n",
    "  print(i)"
   ]
  },
  {
   "cell_type": "code",
   "execution_count": 4,
   "id": "a4JE6ANc2Fxt",
   "metadata": {
    "colab": {
     "base_uri": "https://localhost:8080/"
    },
    "executionInfo": {
     "elapsed": 6,
     "status": "ok",
     "timestamp": 1647005375122,
     "user": {
      "displayName": "Muhammad Huzaifa Khan",
      "photoUrl": "https://lh3.googleusercontent.com/a/default-user=s64",
      "userId": "13946957789452089931"
     },
     "user_tz": -300
    },
    "id": "a4JE6ANc2Fxt",
    "outputId": "0830b4b3-96e4-482a-df7f-e73561efedce"
   },
   "outputs": [
    {
     "name": "stdout",
     "output_type": "stream",
     "text": [
      "Counter({1: 3, 6: 2, 3: 2, 7: 2, 4: 1, 5: 1})\n"
     ]
    }
   ],
   "source": [
    "from collections import Counter\n",
    "a = Counter([4, 6, 6, 5, 3, 3, 1, 1, 1, 7, 7])\n",
    "print(a)"
   ]
  },
  {
   "cell_type": "code",
   "execution_count": 7,
   "id": "jtIvEs2ZKiGJ",
   "metadata": {
    "executionInfo": {
     "elapsed": 6,
     "status": "ok",
     "timestamp": 1647005514745,
     "user": {
      "displayName": "Muhammad Huzaifa Khan",
      "photoUrl": "https://lh3.googleusercontent.com/a/default-user=s64",
      "userId": "13946957789452089931"
     },
     "user_tz": -300
    },
    "id": "jtIvEs2ZKiGJ"
   },
   "outputs": [],
   "source": [
    "a = dict(a)"
   ]
  },
  {
   "cell_type": "code",
   "execution_count": 8,
   "id": "jRdzqffuLTbR",
   "metadata": {
    "colab": {
     "base_uri": "https://localhost:8080/",
     "height": 165
    },
    "executionInfo": {
     "elapsed": 11,
     "status": "error",
     "timestamp": 1647005516016,
     "user": {
      "displayName": "Muhammad Huzaifa Khan",
      "photoUrl": "https://lh3.googleusercontent.com/a/default-user=s64",
      "userId": "13946957789452089931"
     },
     "user_tz": -300
    },
    "id": "jRdzqffuLTbR",
    "outputId": "a514e8ed-9820-4042-eed4-5eb1bb6c7137"
   },
   "outputs": [
    {
     "ename": "KeyError",
     "evalue": "ignored",
     "output_type": "error",
     "traceback": [
      "\u001b[0;31m---------------------------------------------------------------------------\u001b[0m",
      "\u001b[0;31mKeyError\u001b[0m                                  Traceback (most recent call last)",
      "\u001b[0;32m<ipython-input-8-aca908166024>\u001b[0m in \u001b[0;36m<module>\u001b[0;34m()\u001b[0m\n\u001b[0;32m----> 1\u001b[0;31m \u001b[0ma\u001b[0m\u001b[0;34m[\u001b[0m\u001b[0;36m56\u001b[0m\u001b[0;34m]\u001b[0m\u001b[0;34m\u001b[0m\u001b[0;34m\u001b[0m\u001b[0m\n\u001b[0m",
      "\u001b[0;31mKeyError\u001b[0m: 56"
     ]
    }
   ],
   "source": []
  },
  {
   "cell_type": "code",
   "execution_count": null,
   "id": "gsbm5328LYII",
   "metadata": {
    "id": "gsbm5328LYII"
   },
   "outputs": [],
   "source": []
  }
 ],
 "metadata": {
  "colab": {
   "name": "Assignment 1(b).ipynb",
   "provenance": []
  },
  "kernelspec": {
   "display_name": "Python 3 (ipykernel)",
   "language": "python",
   "name": "python3"
  },
  "language_info": {
   "codemirror_mode": {
    "name": "ipython",
    "version": 3
   },
   "file_extension": ".py",
   "mimetype": "text/x-python",
   "name": "python",
   "nbconvert_exporter": "python",
   "pygments_lexer": "ipython3",
   "version": "3.9.7"
  }
 },
 "nbformat": 4,
 "nbformat_minor": 5
}
