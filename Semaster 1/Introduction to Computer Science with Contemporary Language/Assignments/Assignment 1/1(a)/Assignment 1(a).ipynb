{
 "cells": [
  {
   "cell_type": "markdown",
   "id": "55931912",
   "metadata": {},
   "source": [
    "Write a program that takes input radius of a circle and prints Area of Circle (Area of circle=πr2 ) and Area of sphere of same radius (area of sphere = 4/3 πr³)"
   ]
  },
  {
   "cell_type": "code",
   "execution_count": 22,
   "id": "fdbe9b87",
   "metadata": {},
   "outputs": [
    {
     "name": "stdout",
     "output_type": "stream",
     "text": [
      "Enter radius  : 2\n",
      "Area of Circle : 12.57\n",
      "Volume of Sphere : 33.51\n"
     ]
    }
   ],
   "source": [
    "import math\n",
    "radius = int(input(\"Enter radius  : \"))\n",
    "area_of_circle = math.pi * radius**2\n",
    "vol_of_sphere = (4/3) * math.pi * radius**3\n",
    "print(f\"Area of Circle : {area_of_circle:.2f}\")\n",
    "print(f\"Volume of Sphere : {vol_of_sphere:.2f}\")"
   ]
  },
  {
   "cell_type": "code",
   "execution_count": 9,
   "id": "b08e2694",
   "metadata": {},
   "outputs": [
    {
     "data": {
      "text/plain": [
       "3.141592653589793"
      ]
     },
     "execution_count": 9,
     "metadata": {},
     "output_type": "execute_result"
    }
   ],
   "source": [
    "math.pi"
   ]
  },
  {
   "cell_type": "code",
   "execution_count": 16,
   "id": "4ac66325",
   "metadata": {},
   "outputs": [
    {
     "name": "stdout",
     "output_type": "stream",
     "text": [
      "Area of Circle : 12.566370614359172\n",
      "Volume of Sphere : 33.51\n"
     ]
    }
   ],
   "source": [
    "print(f\"Area of Circle : {area_of_circle:.2f}\")\n",
    "print(f\"Volume of Sphere : {vol_of_sphere:.2f}\")"
   ]
  },
  {
   "cell_type": "code",
   "execution_count": 18,
   "id": "c3581054",
   "metadata": {},
   "outputs": [
    {
     "name": "stdout",
     "output_type": "stream",
     "text": [
      "Enter temp in cent :45\n",
      "113.0\n"
     ]
    }
   ],
   "source": [
    "C = int(input(\"Enter temp in cent :\"))\n",
    "F = C * (9 / 5) + 32\n",
    "print(F)"
   ]
  },
  {
   "cell_type": "code",
   "execution_count": 20,
   "id": "08b04169",
   "metadata": {},
   "outputs": [
    {
     "name": "stdout",
     "output_type": "stream",
     "text": [
      "Enter temp in farenhite :34\n",
      "1.1111111111111112\n"
     ]
    }
   ],
   "source": [
    "F = int(input(\"Enter temp in farenhite :\"))\n",
    "C = (F-32) * (5/9)\n",
    "print(C)"
   ]
  },
  {
   "cell_type": "code",
   "execution_count": 23,
   "id": "50706f88",
   "metadata": {},
   "outputs": [
    {
     "name": "stdout",
     "output_type": "stream",
     "text": [
      "Enter the width of ground in meters :3\n",
      "Enter the depth of groudn in metes :5\n",
      "Enter the price of Astroturf in Rs. per square foot :9\n",
      "Area of Hockey Ground is (in sq.ft) 161.46\n",
      "Cost of Astroturf for the Ground is (in Rs. per sq.ft) 1453.13\n"
     ]
    }
   ],
   "source": [
    "width = int(input(\"Enter the width of ground in meters :\"))\n",
    "depth = int(input(\"Enter the depth of groudn in metes :\"))\n",
    "price = int(input(\"Enter the price of Astroturf in Rs. per square foot :\"))\n",
    "# Converting Meters into feet\n",
    "width *= 3.28084\n",
    "depth *= 3.28084\n",
    "# Calculating Area and Cost\n",
    "area = width * depth\n",
    "cost = area * price\n",
    "print(f\"Area of Hockey Ground is (in sq.ft) {area:.2f}\")\n",
    "print(f\"Cost of Astroturf for the Ground is (in Rs. per sq.ft) {cost:.2f}\")"
   ]
  },
  {
   "cell_type": "code",
   "execution_count": null,
   "id": "1b222e43",
   "metadata": {},
   "outputs": [],
   "source": []
  }
 ],
 "metadata": {
  "kernelspec": {
   "display_name": "Python 3",
   "language": "python",
   "name": "python3"
  },
  "language_info": {
   "codemirror_mode": {
    "name": "ipython",
    "version": 3
   },
   "file_extension": ".py",
   "mimetype": "text/x-python",
   "name": "python",
   "nbconvert_exporter": "python",
   "pygments_lexer": "ipython3",
   "version": "3.8.8"
  }
 },
 "nbformat": 4,
 "nbformat_minor": 5
}
