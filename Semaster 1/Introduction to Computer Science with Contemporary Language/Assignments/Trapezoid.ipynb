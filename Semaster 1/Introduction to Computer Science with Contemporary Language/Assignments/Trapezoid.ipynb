{
 "cells": [
  {
   "cell_type": "code",
   "execution_count": 1,
   "id": "88adbf2a",
   "metadata": {},
   "outputs": [],
   "source": [
    "import math"
   ]
  },
  {
   "cell_type": "code",
   "execution_count": 2,
   "id": "9e372c94",
   "metadata": {},
   "outputs": [],
   "source": [
    "equation = lambda x: 6 + 3*math.cos(x)"
   ]
  },
  {
   "cell_type": "code",
   "execution_count": 31,
   "id": "23d11521",
   "metadata": {},
   "outputs": [
    {
     "name": "stdout",
     "output_type": "stream",
     "text": [
      "Enter no. of Trapezoids : 10000\n",
      "12.425720432396671\n"
     ]
    }
   ],
   "source": [
    "a = 0\n",
    "b = math.pi/2\n",
    "n = int(input(\"Enter no. of Trapezoids : \"))\n",
    "h = (b-a)/n\n",
    "sum_ = equation(a)\n",
    "while (a < b):\n",
    "    a += h\n",
    "    sum_ += 2*equation(a)\n",
    "sum_ += equation(b)\n",
    "ans = sum_ * (h/2)\n",
    "print(ans)"
   ]
  },
  {
   "cell_type": "code",
   "execution_count": 40,
   "id": "feb84eae",
   "metadata": {},
   "outputs": [
    {
     "name": "stdout",
     "output_type": "stream",
     "text": [
      "area 12.424779846106679\n"
     ]
    }
   ],
   "source": [
    "a=0\n",
    "b=math.pi/2\n",
    "n=10000000\n",
    "h=(b-a)/n\n",
    "x0=6+3*math.cos(a)\n",
    "xn=6+3*math.cos(b)\n",
    "sum_=(x0+xn)\n",
    "while a<b :\n",
    "    a+=h\n",
    "    y=6+3*math.cos(a)\n",
    "    sum_+=y*2\n",
    "ans=sum_*(h/2)\n",
    "print(\"area\",ans)"
   ]
  },
  {
   "cell_type": "code",
   "execution_count": 35,
   "id": "6a007cc9",
   "metadata": {},
   "outputs": [
    {
     "data": {
      "text/plain": [
       "1.5707963267948966"
      ]
     },
     "execution_count": 35,
     "metadata": {},
     "output_type": "execute_result"
    }
   ],
   "source": [
    "math.pi/2"
   ]
  },
  {
   "cell_type": "code",
   "execution_count": 13,
   "id": "40ecdb58",
   "metadata": {},
   "outputs": [],
   "source": [
    "ans = lambda x : x+2"
   ]
  },
  {
   "cell_type": "code",
   "execution_count": 14,
   "id": "8425b30b",
   "metadata": {},
   "outputs": [
    {
     "data": {
      "text/plain": [
       "7"
      ]
     },
     "execution_count": 14,
     "metadata": {},
     "output_type": "execute_result"
    }
   ],
   "source": [
    "ans(5)"
   ]
  },
  {
   "cell_type": "code",
   "execution_count": null,
   "id": "e9541ff4",
   "metadata": {},
   "outputs": [],
   "source": []
  }
 ],
 "metadata": {
  "kernelspec": {
   "display_name": "Python 3",
   "language": "python",
   "name": "python3"
  },
  "language_info": {
   "codemirror_mode": {
    "name": "ipython",
    "version": 3
   },
   "file_extension": ".py",
   "mimetype": "text/x-python",
   "name": "python",
   "nbconvert_exporter": "python",
   "pygments_lexer": "ipython3",
   "version": "3.8.8"
  }
 },
 "nbformat": 4,
 "nbformat_minor": 5
}
