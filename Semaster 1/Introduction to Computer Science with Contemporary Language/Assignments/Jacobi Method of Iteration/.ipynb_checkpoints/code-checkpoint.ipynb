{
 "cells": [
  {
   "cell_type": "code",
   "execution_count": 25,
   "id": "78024378",
   "metadata": {},
   "outputs": [
    {
     "name": "stdout",
     "output_type": "stream",
     "text": [
      "Enter number of unknowns: 3\n",
      "Enter Augmented Matrix Coefficients:\n",
      "data[0][0]=9\n",
      "data[0][1]=2\n",
      "data[0][2]=3\n",
      "data[0][3]=7\n",
      "data[1][0]=1\n",
      "data[1][1]=12\n",
      "data[1][2]=9\n",
      "data[1][3]=2\n",
      "data[2][0]=4\n",
      "data[2][1]=6\n",
      "data[2][2]=14\n",
      "data[2][3]=1\n",
      "Enter tolerable Error : 0\n",
      "[0.8050847457627118, 0.3220338983050848, -0.29661016949152547]\n"
     ]
    }
   ],
   "source": [
    "n = int(input(\"Enter number of unknowns: \"))\n",
    "\n",
    "data = []\n",
    "\n",
    "print('Enter Augmented Matrix Coefficients:')\n",
    "for i in range(n):\n",
    "    row = []\n",
    "    for j in range(n+1):\n",
    "        value = float(input( 'data['+str(i)+']['+ str(j)+']='))\n",
    "        row.append(value)\n",
    "    data.append(row)\n",
    "\n",
    "te = int(input(\"Enter tolerable Error : \"))\n",
    "\n",
    "x = []\n",
    "accuracy = []\n",
    "acceptance = []\n",
    "\n",
    "# Initial Guess 0\n",
    "for __ in range(n):\n",
    "    x.append(0)\n",
    "    accuracy.append(0)\n",
    "    acceptance.append(\"Not Accepted\")\n",
    "    \n",
    "while (\"Not Accepted\" in acceptance):\n",
    "    \n",
    "    for i in range(n):\n",
    "        rhs = data[i][-1]\n",
    "        i_coeff = data[i][i]\n",
    "        except_i = 0\n",
    "        for j in range(n):\n",
    "            if i != j:\n",
    "                except_i += data[i][j]*x[j]\n",
    "        x[i] = (rhs - except_i) / i_coeff\n",
    "\n",
    "#     for n = 3        \n",
    "#     x[0] = (data[0][3]-(data[0][1]*x[1]+data[0][2]*x[2]))/data[0][0]\n",
    "#     x[1] = (data[1][3]-(data[1][0]*x[0]+data[1][2]*x[2]))/data[1][1]\n",
    "#     x[2] = (data[2][3]-(data[2][0]*x[0]+data[2][1]*x[1]))/data[2][2]\n",
    "    \n",
    "    for i in range(n):\n",
    "        rhs = data[i][-1]\n",
    "        lhs = 0\n",
    "        for j in range(n):\n",
    "            lhs += data[i][j]*x[j]\n",
    "        accuracy[i] = abs(rhs-lhs)\n",
    "\n",
    "#     for n = 3\n",
    "#     accuracy[0] = data[0][3]-(data[0][0]*x[0]+data[0][1]*x[1]+data[0][2]*x[2])\n",
    "#     accuracy[1] = data[1][3]-(data[1][0]*x[0]+data[1][1]*x[1]+data[1][2]*x[2])\n",
    "#     accuracy[2] = data[2][3]-(data[2][0]*x[0]+data[2][1]*x[1]+data[2][2]*x[2])\n",
    "    \n",
    "    for i in range(n):\n",
    "        if accuracy[i] <= te:\n",
    "            acceptance[i] = \"Accepted\"\n",
    "    \n",
    "#     for n = 3 \n",
    "#     if abs(accuracy[0])<=te:\n",
    "#         acceptance[0] = \"Accepted\"\n",
    "    \n",
    "#     if abs(accuracy[1])<=te:\n",
    "#         acceptance[1] = \"Accepted\"\n",
    "        \n",
    "#     if abs(accuracy[2])<=te:\n",
    "#         acceptance[2] = \"Accepted\"\n",
    "        \n",
    "print(x)"
   ]
  },
  {
   "cell_type": "code",
   "execution_count": 26,
   "id": "7e9e48c6",
   "metadata": {},
   "outputs": [],
   "source": [
    "eq1 = lambda x: 9*x[0] + 2*x[1] + 3*x[2]"
   ]
  },
  {
   "cell_type": "code",
   "execution_count": 27,
   "id": "467f1ce2",
   "metadata": {},
   "outputs": [
    {
     "data": {
      "text/plain": [
       "7.0"
      ]
     },
     "execution_count": 27,
     "metadata": {},
     "output_type": "execute_result"
    }
   ],
   "source": [
    "eq1(x)"
   ]
  },
  {
   "cell_type": "code",
   "execution_count": 28,
   "id": "7f6c68c4",
   "metadata": {},
   "outputs": [],
   "source": [
    "eq2 = lambda x: 1*x[0] + 12*x[1] + 9*x[2]"
   ]
  },
  {
   "cell_type": "code",
   "execution_count": 29,
   "id": "9d66c46c",
   "metadata": {},
   "outputs": [
    {
     "data": {
      "text/plain": [
       "2.0"
      ]
     },
     "execution_count": 29,
     "metadata": {},
     "output_type": "execute_result"
    }
   ],
   "source": [
    "eq2(x)"
   ]
  },
  {
   "cell_type": "code",
   "execution_count": 30,
   "id": "6326c11c",
   "metadata": {},
   "outputs": [],
   "source": [
    "eq3 = lambda x: 4*x[0] + 6*x[1] + 14*x[2]"
   ]
  },
  {
   "cell_type": "code",
   "execution_count": 31,
   "id": "0cf10fff",
   "metadata": {},
   "outputs": [
    {
     "data": {
      "text/plain": [
       "1.0"
      ]
     },
     "execution_count": 31,
     "metadata": {},
     "output_type": "execute_result"
    }
   ],
   "source": [
    "eq3(x)"
   ]
  }
 ],
 "metadata": {
  "kernelspec": {
   "display_name": "Python 3",
   "language": "python",
   "name": "python3"
  },
  "language_info": {
   "codemirror_mode": {
    "name": "ipython",
    "version": 3
   },
   "file_extension": ".py",
   "mimetype": "text/x-python",
   "name": "python",
   "nbconvert_exporter": "python",
   "pygments_lexer": "ipython3",
   "version": "3.8.8"
  }
 },
 "nbformat": 4,
 "nbformat_minor": 5
}
