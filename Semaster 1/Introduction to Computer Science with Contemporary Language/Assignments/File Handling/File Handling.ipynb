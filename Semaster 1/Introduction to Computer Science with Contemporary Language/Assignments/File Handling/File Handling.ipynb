{
 "cells": [
  {
   "cell_type": "code",
   "execution_count": 4,
   "id": "5707263c",
   "metadata": {},
   "outputs": [
    {
     "name": "stdout",
     "output_type": "stream",
     "text": [
      "9534\n"
     ]
    }
   ],
   "source": [
    "file = open(\"SalesData.txt\", \"r\")\n",
    "columns = file.readline()\n",
    "sales_sum = 0\n",
    "rows = file.readlines()\n",
    "for row in rows:\n",
    "    row = row.split(\"\\t\")\n",
    "    qty = int(row[3])\n",
    "    price = int(row[4])\n",
    "    amt = qty*price\n",
    "    sales_sum += amt\n",
    "    \n",
    "print(sales_sum)"
   ]
  },
  {
   "cell_type": "code",
   "execution_count": 2,
   "id": "e95c7b16",
   "metadata": {},
   "outputs": [
    {
     "data": {
      "text/plain": [
       "['', '', '', '', '', '', '', '\\n']"
      ]
     },
     "execution_count": 2,
     "metadata": {},
     "output_type": "execute_result"
    }
   ],
   "source": [
    "row"
   ]
  },
  {
   "cell_type": "code",
   "execution_count": 25,
   "id": "3292f17b",
   "metadata": {},
   "outputs": [
    {
     "data": {
      "text/plain": [
       "True"
      ]
     },
     "execution_count": 25,
     "metadata": {},
     "output_type": "execute_result"
    }
   ],
   "source": [
    "file.readline().split(\"\\t\")[0] == \"\""
   ]
  },
  {
   "cell_type": "code",
   "execution_count": 25,
   "id": "10dceca3",
   "metadata": {},
   "outputs": [],
   "source": [
    "df = open(\"test.txt\", \"w\")"
   ]
  },
  {
   "cell_type": "code",
   "execution_count": 26,
   "id": "0170ff86",
   "metadata": {},
   "outputs": [
    {
     "data": {
      "text/plain": [
       "10"
      ]
     },
     "execution_count": 26,
     "metadata": {},
     "output_type": "execute_result"
    }
   ],
   "source": [
    "df.write(\"Bismillah\\n\")"
   ]
  },
  {
   "cell_type": "code",
   "execution_count": 53,
   "id": "6b3be635",
   "metadata": {},
   "outputs": [
    {
     "ename": "UnsupportedOperation",
     "evalue": "not writable",
     "output_type": "error",
     "traceback": [
      "\u001b[1;31m---------------------------------------------------------------------------\u001b[0m",
      "\u001b[1;31mUnsupportedOperation\u001b[0m                      Traceback (most recent call last)",
      "\u001b[1;32m<ipython-input-53-303a45b81977>\u001b[0m in \u001b[0;36m<module>\u001b[1;34m\u001b[0m\n\u001b[1;32m----> 1\u001b[1;33m \u001b[0mdf\u001b[0m\u001b[1;33m.\u001b[0m\u001b[0mwrite\u001b[0m\u001b[1;33m(\u001b[0m\u001b[1;34m\"This is second line of jupyter\"\u001b[0m\u001b[1;33m)\u001b[0m\u001b[1;33m\u001b[0m\u001b[1;33m\u001b[0m\u001b[0m\n\u001b[0m",
      "\u001b[1;31mUnsupportedOperation\u001b[0m: not writable"
     ]
    }
   ],
   "source": [
    "df.write(\"This is second line of jupyter\")"
   ]
  },
  {
   "cell_type": "code",
   "execution_count": 54,
   "id": "56868623",
   "metadata": {},
   "outputs": [],
   "source": [
    "df.close()"
   ]
  },
  {
   "cell_type": "code",
   "execution_count": 55,
   "id": "7a77e16f",
   "metadata": {},
   "outputs": [],
   "source": [
    "df = open(\"test.txt\", \"a\")    "
   ]
  },
  {
   "cell_type": "code",
   "execution_count": 56,
   "id": "3f62ecbd",
   "metadata": {},
   "outputs": [
    {
     "data": {
      "text/plain": [
       "8"
      ]
     },
     "execution_count": 56,
     "metadata": {},
     "output_type": "execute_result"
    }
   ],
   "source": [
    "df.write(\"\\nhuzaifa\")"
   ]
  },
  {
   "cell_type": "code",
   "execution_count": 57,
   "id": "fd957e9d",
   "metadata": {},
   "outputs": [],
   "source": [
    "df.flush()"
   ]
  },
  {
   "cell_type": "code",
   "execution_count": 64,
   "id": "5aa0f6d6",
   "metadata": {},
   "outputs": [],
   "source": [
    "df = open(\"test.txt\", \"r\")"
   ]
  },
  {
   "cell_type": "code",
   "execution_count": 65,
   "id": "8e0f1b1b",
   "metadata": {},
   "outputs": [
    {
     "data": {
      "text/plain": [
       "'Bismill'"
      ]
     },
     "execution_count": 65,
     "metadata": {},
     "output_type": "execute_result"
    }
   ],
   "source": [
    "df.readline(7)"
   ]
  },
  {
   "cell_type": "code",
   "execution_count": 66,
   "id": "40871b5d",
   "metadata": {},
   "outputs": [
    {
     "data": {
      "text/plain": [
       "'ah'"
      ]
     },
     "execution_count": 66,
     "metadata": {},
     "output_type": "execute_result"
    }
   ],
   "source": [
    "df.readline(2)"
   ]
  },
  {
   "cell_type": "code",
   "execution_count": 70,
   "id": "0cd26d39",
   "metadata": {},
   "outputs": [
    {
     "name": "stdout",
     "output_type": "stream",
     "text": [
      "Enter an amount : 34\n",
      "Enter an amount : 44\n",
      "Enter an amount : 3\n",
      "Enter an amount : 54\n",
      "Enter an amount : 67\n",
      "Enter an amount : en8d99\n",
      "Enter an amount : end\n"
     ]
    }
   ],
   "source": [
    "file = open(\"demo.txt\", \"w\")\n",
    "amt = input(\"Enter an amount : \")\n",
    "while amt!=\"end\":\n",
    "    file.write(amt + \"\\n\")\n",
    "    amt = input(\"Enter an amount : \")\n",
    "file.close()"
   ]
  },
  {
   "cell_type": "code",
   "execution_count": 69,
   "id": "d97b9b8f",
   "metadata": {},
   "outputs": [],
   "source": [
    "file.close()"
   ]
  },
  {
   "cell_type": "code",
   "execution_count": null,
   "id": "b9a647eb",
   "metadata": {},
   "outputs": [],
   "source": []
  },
  {
   "cell_type": "code",
   "execution_count": null,
   "id": "b65c12ed",
   "metadata": {},
   "outputs": [],
   "source": []
  },
  {
   "cell_type": "code",
   "execution_count": null,
   "id": "16d231aa",
   "metadata": {},
   "outputs": [],
   "source": []
  },
  {
   "cell_type": "code",
   "execution_count": null,
   "id": "c5ff96e7",
   "metadata": {},
   "outputs": [],
   "source": []
  },
  {
   "cell_type": "code",
   "execution_count": null,
   "id": "a620b933",
   "metadata": {},
   "outputs": [],
   "source": []
  },
  {
   "cell_type": "code",
   "execution_count": null,
   "id": "3d89bd96",
   "metadata": {},
   "outputs": [],
   "source": []
  },
  {
   "cell_type": "markdown",
   "id": "561bcc54",
   "metadata": {},
   "source": [
    "zksefsf\n",
    "\n"
   ]
  },
  {
   "cell_type": "code",
   "execution_count": null,
   "id": "6d64d7f1",
   "metadata": {},
   "outputs": [],
   "source": []
  }
 ],
 "metadata": {
  "kernelspec": {
   "display_name": "Python 3 (ipykernel)",
   "language": "python",
   "name": "python3"
  },
  "language_info": {
   "codemirror_mode": {
    "name": "ipython",
    "version": 3
   },
   "file_extension": ".py",
   "mimetype": "text/x-python",
   "name": "python",
   "nbconvert_exporter": "python",
   "pygments_lexer": "ipython3",
   "version": "3.10.4"
  }
 },
 "nbformat": 4,
 "nbformat_minor": 5
}
