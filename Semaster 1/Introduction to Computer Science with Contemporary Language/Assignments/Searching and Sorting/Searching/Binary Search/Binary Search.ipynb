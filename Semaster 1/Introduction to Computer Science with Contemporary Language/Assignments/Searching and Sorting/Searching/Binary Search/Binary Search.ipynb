{
 "cells": [
  {
   "cell_type": "code",
   "execution_count": 8,
   "id": "9d9e8b49",
   "metadata": {},
   "outputs": [
    {
     "name": "stdout",
     "output_type": "stream",
     "text": [
      "Enter value to be search : 5\n",
      "Found 5 at index 4\n"
     ]
    }
   ],
   "source": [
    "A = [1, 2, 3, 4, 5, 6, 7, 8, 9]\n",
    "\n",
    "x = int(input(\"Enter value to be search : \"))\n",
    "\n",
    "n = len(A)\n",
    "low = 0\n",
    "high = n-1\n",
    "\n",
    "while (low <= high):\n",
    "    mid = int((low + high)/2)\n",
    "    if (A[mid] == x):\n",
    "        print(f\"Found {x} at index {mid}\")\n",
    "        break\n",
    "    if (x > mid):\n",
    "        low = mid + 1\n",
    "    else:\n",
    "        high = mid -1\n",
    "\n",
    "if (low > high):\n",
    "    print(\"Not Found\")"
   ]
  }
 ],
 "metadata": {
  "kernelspec": {
   "display_name": "Python 3 (ipykernel)",
   "language": "python",
   "name": "python3"
  },
  "language_info": {
   "codemirror_mode": {
    "name": "ipython",
    "version": 3
   },
   "file_extension": ".py",
   "mimetype": "text/x-python",
   "name": "python",
   "nbconvert_exporter": "python",
   "pygments_lexer": "ipython3",
   "version": "3.9.7"
  }
 },
 "nbformat": 4,
 "nbformat_minor": 5
}
