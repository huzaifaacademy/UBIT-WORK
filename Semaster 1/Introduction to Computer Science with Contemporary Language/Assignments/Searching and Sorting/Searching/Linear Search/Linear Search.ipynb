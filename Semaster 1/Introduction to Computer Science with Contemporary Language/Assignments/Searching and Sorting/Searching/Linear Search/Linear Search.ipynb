{
 "cells": [
  {
   "cell_type": "code",
   "execution_count": 9,
   "id": "1ea79f8e",
   "metadata": {},
   "outputs": [
    {
     "name": "stdout",
     "output_type": "stream",
     "text": [
      "Enter value to be search : -1\n",
      "Found at index 4\n"
     ]
    }
   ],
   "source": [
    "A = [4, 1, 44, 5, -1, 6, 222, 91]\n",
    "x = int(input(\"Enter value to be search : \"))\n",
    "n = len(A)\n",
    "i = 0\n",
    "while (i < n):\n",
    "    if A[i] == x:\n",
    "        print(f\"Found at index {i}\")\n",
    "        break\n",
    "    i = i + 1\n",
    "if i == n:\n",
    "    print(\"Not Found\")"
   ]
  }
 ],
 "metadata": {
  "kernelspec": {
   "display_name": "Python 3 (ipykernel)",
   "language": "python",
   "name": "python3"
  },
  "language_info": {
   "codemirror_mode": {
    "name": "ipython",
    "version": 3
   },
   "file_extension": ".py",
   "mimetype": "text/x-python",
   "name": "python",
   "nbconvert_exporter": "python",
   "pygments_lexer": "ipython3",
   "version": "3.9.7"
  }
 },
 "nbformat": 4,
 "nbformat_minor": 5
}
