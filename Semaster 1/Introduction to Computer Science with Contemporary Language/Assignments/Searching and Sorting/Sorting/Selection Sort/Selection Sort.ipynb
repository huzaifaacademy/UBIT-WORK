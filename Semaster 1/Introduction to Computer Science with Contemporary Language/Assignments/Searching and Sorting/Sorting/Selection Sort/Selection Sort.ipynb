{
 "cells": [
  {
   "cell_type": "code",
   "execution_count": 1,
   "id": "8eae4a9d",
   "metadata": {},
   "outputs": [
    {
     "name": "stdout",
     "output_type": "stream",
     "text": [
      "[-1, 1, 4, 5, 6, 44, 91, 222]\n"
     ]
    }
   ],
   "source": [
    "A = [4, 1, 44, 5, -1, 6, 222, 91]\n",
    "n = len(A)\n",
    "i = 0\n",
    "while (i < n):\n",
    "    smallest = A[i]\n",
    "    smallest_ind = i\n",
    "    j = i \n",
    "    while(j < n):\n",
    "        if (A[j] < smallest):\n",
    "            smallest = A[j]\n",
    "            smallest_ind = j\n",
    "        j = j + 1\n",
    "    if (i != j):\n",
    "        temp = A[smallest_ind]\n",
    "        A[smallest_ind] = A[i]\n",
    "        A[i] = temp\n",
    "    i = i + 1\n",
    "print(A)"
   ]
  }
 ],
 "metadata": {
  "kernelspec": {
   "display_name": "Python 3 (ipykernel)",
   "language": "python",
   "name": "python3"
  },
  "language_info": {
   "codemirror_mode": {
    "name": "ipython",
    "version": 3
   },
   "file_extension": ".py",
   "mimetype": "text/x-python",
   "name": "python",
   "nbconvert_exporter": "python",
   "pygments_lexer": "ipython3",
   "version": "3.9.7"
  }
 },
 "nbformat": 4,
 "nbformat_minor": 5
}
