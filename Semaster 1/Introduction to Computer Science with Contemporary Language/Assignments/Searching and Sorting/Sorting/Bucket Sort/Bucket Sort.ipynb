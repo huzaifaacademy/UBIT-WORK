{
 "cells": [
  {
   "cell_type": "code",
   "execution_count": null,
   "id": "ab060fd2",
   "metadata": {},
   "outputs": [],
   "source": [
    "array = [.42, .32, .33, .52, .37, .47, .51]\n",
    "    \n",
    "# create empty buckets\n",
    "bucket = []\n",
    "for i in range(len(array)):\n",
    "    bucket.append([])\n",
    "\n",
    "# Inserting elements into their respective buckets\n",
    "for elem in array:\n",
    "    bucket_ind = int(elem*10)\n",
    "    bucket[bucket_ind].append(elem)\n",
    "\n",
    "\n",
    "# Sort the elements of each bucket\n",
    "for i in range(len(array)):\n",
    "    bucket[i] = sorted(bucket[i])\n",
    "\n",
    "# Get the sorted buckets\n",
    "k = 0\n",
    "for i in range(len(array)):\n",
    "    for j in range(len(bucket[i])):\n",
    "        array[k] = bucket[i][j]\n",
    "        k += 1\n",
    "\n",
    "print(array)"
   ]
  }
 ],
 "metadata": {
  "kernelspec": {
   "display_name": "Python 3 (ipykernel)",
   "language": "python",
   "name": "python3"
  },
  "language_info": {
   "codemirror_mode": {
    "name": "ipython",
    "version": 3
   },
   "file_extension": ".py",
   "mimetype": "text/x-python",
   "name": "python",
   "nbconvert_exporter": "python",
   "pygments_lexer": "ipython3",
   "version": "3.9.7"
  }
 },
 "nbformat": 4,
 "nbformat_minor": 5
}
