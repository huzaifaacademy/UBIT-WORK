{
 "cells": [
  {
   "cell_type": "code",
   "execution_count": 1,
   "id": "3f9179eb",
   "metadata": {},
   "outputs": [
    {
     "name": "stdout",
     "output_type": "stream",
     "text": [
      "12.424777960769381\n"
     ]
    }
   ],
   "source": [
    "import scipy.integrate as integrate\n",
    "import math\n",
    "\n",
    "def equation(x):\n",
    "    return 6+3*math.cos(x)\n",
    "\n",
    "ans, abs_error = integrate.quad(equation, 0, math.pi/2)\n",
    "\n",
    "print(ans)"
   ]
  },
  {
   "cell_type": "code",
   "execution_count": null,
   "id": "5013c9fd",
   "metadata": {},
   "outputs": [],
   "source": []
  }
 ],
 "metadata": {
  "kernelspec": {
   "display_name": "Python 3 (ipykernel)",
   "language": "python",
   "name": "python3"
  },
  "language_info": {
   "codemirror_mode": {
    "name": "ipython",
    "version": 3
   },
   "file_extension": ".py",
   "mimetype": "text/x-python",
   "name": "python",
   "nbconvert_exporter": "python",
   "pygments_lexer": "ipython3",
   "version": "3.9.7"
  }
 },
 "nbformat": 4,
 "nbformat_minor": 5
}
