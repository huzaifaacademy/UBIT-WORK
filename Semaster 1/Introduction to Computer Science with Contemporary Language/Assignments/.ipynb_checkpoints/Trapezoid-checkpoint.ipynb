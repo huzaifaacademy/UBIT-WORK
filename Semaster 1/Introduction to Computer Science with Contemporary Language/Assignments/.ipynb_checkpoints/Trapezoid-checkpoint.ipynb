{
 "cells": [
  {
   "cell_type": "code",
   "execution_count": 1,
   "id": "88adbf2a",
   "metadata": {},
   "outputs": [],
   "source": [
    "import math"
   ]
  },
  {
   "cell_type": "code",
   "execution_count": 2,
   "id": "9e372c94",
   "metadata": {},
   "outputs": [],
   "source": [
    "equation = lambda x: 6 + 3*math.cos(x)"
   ]
  },
  {
   "cell_type": "code",
   "execution_count": 7,
   "id": "23d11521",
   "metadata": {},
   "outputs": [
    {
     "name": "stdout",
     "output_type": "stream",
     "text": [
      "Enter no. of Trapezoids : 30000\n",
      "12.424777960084091\n"
     ]
    }
   ],
   "source": [
    "a = 0\n",
    "b = math.pi/2\n",
    "n = int(input(\"Enter no. of Trapezoids : \"))\n",
    "h = (b-a)/n\n",
    "sum_ = equation(a)\n",
    "a += h\n",
    "while (a < b):\n",
    "    sum_ += 2*equation(a)\n",
    "    a += h\n",
    "sum_ += equation(b)\n",
    "ans = sum_ * (h/2)\n",
    "print(ans)"
   ]
  },
  {
   "cell_type": "code",
   "execution_count": null,
   "id": "feb84eae",
   "metadata": {},
   "outputs": [],
   "source": []
  }
 ],
 "metadata": {
  "kernelspec": {
   "display_name": "Python 3",
   "language": "python",
   "name": "python3"
  },
  "language_info": {
   "codemirror_mode": {
    "name": "ipython",
    "version": 3
   },
   "file_extension": ".py",
   "mimetype": "text/x-python",
   "name": "python",
   "nbconvert_exporter": "python",
   "pygments_lexer": "ipython3",
   "version": "3.8.8"
  }
 },
 "nbformat": 4,
 "nbformat_minor": 5
}
