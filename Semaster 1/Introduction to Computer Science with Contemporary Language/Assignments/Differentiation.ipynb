{
 "cells": [
  {
   "cell_type": "code",
   "execution_count": 2,
   "id": "28413b93",
   "metadata": {},
   "outputs": [],
   "source": [
    "import math"
   ]
  },
  {
   "cell_type": "code",
   "execution_count": 4,
   "id": "c4fe8d2e",
   "metadata": {},
   "outputs": [
    {
     "name": "stdout",
     "output_type": "stream",
     "text": [
      "1.1 7.360788364276732\n",
      "-2.6736220801843062\n"
     ]
    }
   ],
   "source": [
    "x1 = 1.1\n",
    "x = x1\n",
    "y1 = 6 + 3*math.cos(x)\n",
    "print(x1, y1)\n",
    "dy = -3*math.sin(x)\n",
    "print(dy)"
   ]
  },
  {
   "cell_type": "code",
   "execution_count": 9,
   "id": "2ccebac7",
   "metadata": {},
   "outputs": [
    {
     "name": "stdout",
     "output_type": "stream",
     "text": [
      "1.1000000010000002 7.36078836160311\n"
     ]
    }
   ],
   "source": [
    "x2 = x1 + 1e-9\n",
    "x = x2\n",
    "y2 = 6 + 3*math.cos(x)\n",
    "print(x2, y2)"
   ]
  },
  {
   "cell_type": "code",
   "execution_count": 10,
   "id": "064ed8e1",
   "metadata": {},
   "outputs": [
    {
     "name": "stdout",
     "output_type": "stream",
     "text": [
      "-2.6736219912958523\n"
     ]
    }
   ],
   "source": [
    "slope = (y2-y1)/(x2-x1)\n",
    "print(slope)"
   ]
  },
  {
   "cell_type": "code",
   "execution_count": null,
   "id": "1424796d",
   "metadata": {},
   "outputs": [],
   "source": []
  }
 ],
 "metadata": {
  "kernelspec": {
   "display_name": "Python 3 (ipykernel)",
   "language": "python",
   "name": "python3"
  },
  "language_info": {
   "codemirror_mode": {
    "name": "ipython",
    "version": 3
   },
   "file_extension": ".py",
   "mimetype": "text/x-python",
   "name": "python",
   "nbconvert_exporter": "python",
   "pygments_lexer": "ipython3",
   "version": "3.9.7"
  }
 },
 "nbformat": 4,
 "nbformat_minor": 5
}
